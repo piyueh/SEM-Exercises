{
 "cells": [
  {
   "cell_type": "code",
   "execution_count": 1,
   "metadata": {
    "collapsed": true,
    "run_control": {
     "frozen": false,
     "read_only": false
    }
   },
   "outputs": [],
   "source": [
    "import numpy\n",
    "from matplotlib import pyplot\n",
    "from matplotlib import colors\n",
    "% matplotlib inline"
   ]
  },
  {
   "cell_type": "code",
   "execution_count": 2,
   "metadata": {
    "collapsed": true,
    "run_control": {
     "frozen": false,
     "read_only": false
    }
   },
   "outputs": [],
   "source": [
    "import os, sys\n",
    "sys.path.append(os.path.split(os.getcwd())[0])"
   ]
  },
  {
   "cell_type": "code",
   "execution_count": 3,
   "metadata": {
    "collapsed": false,
    "run_control": {
     "frozen": false,
     "read_only": false
    }
   },
   "outputs": [],
   "source": [
    "import utils.poly as poly\n",
    "import utils.quadrature as quad"
   ]
  },
  {
   "cell_type": "markdown",
   "metadata": {},
   "source": [
    "$$\n",
    "\\frac{\\partial u}{\\partial t} + \\frac{\\partial u}{\\partial x} = 0\n",
    "$$"
   ]
  },
  {
   "cell_type": "markdown",
   "metadata": {},
   "source": [
    "$$\n",
    "u_{init} = e^{-40(x-0.5)^2}\n",
    "$$"
   ]
  },
  {
   "cell_type": "markdown",
   "metadata": {},
   "source": [
    "$$\n",
    "u_{exact} = e^{\\left[-40(x-0.5-t)^2\\right]}\n",
    "$$"
   ]
  },
  {
   "cell_type": "code",
   "execution_count": 4,
   "metadata": {
    "code_folding": [
     0
    ],
    "collapsed": true,
    "run_control": {
     "frozen": false,
     "read_only": false
    }
   },
   "outputs": [],
   "source": [
    "def equalDistrib(N):\n",
    "    \"\"\"\"\"\"\n",
    "    return numpy.linspace(-1., 1., N, endpoint=False) + 1. / N"
   ]
  },
  {
   "cell_type": "code",
   "execution_count": 5,
   "metadata": {
    "code_folding": [
     0
    ],
    "collapsed": true,
    "run_control": {
     "frozen": false,
     "read_only": false
    }
   },
   "outputs": [],
   "source": [
    "def LegendreLobatto(N):\n",
    "    \"\"\"\"\"\"\n",
    "    return quad.GaussLobattoJacobi(N).nodes"
   ]
  },
  {
   "cell_type": "code",
   "execution_count": 6,
   "metadata": {
    "code_folding": [
     0
    ],
    "collapsed": true,
    "run_control": {
     "frozen": false,
     "read_only": false
    }
   },
   "outputs": [],
   "source": [
    "def LegendreGauss(N):\n",
    "    \"\"\"\"\"\"\n",
    "    return quad.GaussJacobi(N).nodes"
   ]
  },
  {
   "cell_type": "code",
   "execution_count": 7,
   "metadata": {
    "code_folding": [
     0
    ],
    "collapsed": true,
    "run_control": {
     "frozen": false,
     "read_only": false
    }
   },
   "outputs": [],
   "source": [
    "def ChebyshevLobatto(N):\n",
    "    \"\"\"\"\"\"\n",
    "    return - numpy.cos(numpy.arange(N, dtype=numpy.float64) * numpy.pi / (N-1))"
   ]
  },
  {
   "cell_type": "code",
   "execution_count": 8,
   "metadata": {
    "code_folding": [
     0
    ],
    "collapsed": true,
    "run_control": {
     "frozen": false,
     "read_only": false
    }
   },
   "outputs": [],
   "source": [
    "class Config(object):\n",
    "    \"\"\"data structure for configurations\"\"\"\n",
    "    \n",
    "    def __init__(self, config=None):\n",
    "        \"\"\"initialization\n",
    "        \n",
    "        Args:\n",
    "            config: string or file containing configurations\n",
    "        \"\"\"\n",
    "        # TODO: check the type of config\n",
    "        # TODO: implement reading configurations from config\n",
    "        \n",
    "        self.xLB = 0.\n",
    "        self.xRB = 1.\n",
    "        self.Ne = 10\n",
    "        self.K = 4\n",
    "        self.g_type = \"g1\"\n",
    "        self.node_type = \"LegendreGauss\"\n",
    "        \n",
    "        self.BCL = \"periodic\"\n",
    "        self.BCR = \"periodic\""
   ]
  },
  {
   "cell_type": "code",
   "execution_count": 9,
   "metadata": {
    "code_folding": [
     0
    ],
    "collapsed": false,
    "run_control": {
     "frozen": false,
     "read_only": false
    }
   },
   "outputs": [],
   "source": [
    "class Element(object):\n",
    "    \"\"\"\"\"\"\n",
    "    \n",
    "    distrib_pnts = {\n",
    "        \"equal\": equalDistrib,\n",
    "        \"LegendreLobatto\": LegendreLobatto,\n",
    "        \"LegendreGauss\": LegendreGauss,\n",
    "        \"ChebyshevLobatto\": ChebyshevLobatto}\n",
    "    \n",
    "    def __init__(self, K, xL, xR, distrib=\"equal\"):\n",
    "        \"\"\"initialization\n",
    "        \n",
    "        Args:\n",
    "            K: integer, the number of solution points\n",
    "            xL: float, the coordinate of left boundary\n",
    "            xR: float, the coordinate of right boundary\n",
    "            distrib: string, the distribution of solution points (options: \n",
    "                    equal, LegendreLobatto, LegendreGauss, ChebyshevLobatto)\n",
    "        \"\"\"\n",
    "        # TODO: check the type of input arguments\n",
    "        \n",
    "        self.xL = numpy.float64(xL)\n",
    "        self.xR = numpy.float64(xR)\n",
    "        self.h = self.xR - self.xL\n",
    "        self.xc = 0.5 * (self.xL + self.xR)\n",
    "        self.J = 0.5 * self.h\n",
    "        self.Jinv = 2. / self.h\n",
    "        \n",
    "        self.K = K\n",
    "        self.xi_soln_pnts = Element.distrib_pnts[distrib](K)\n",
    "        self.x_soln_pnts = self.coord_l2g(self.xi_soln_pnts)\n",
    "        \n",
    "        self.basis = {\n",
    "            \"local\": poly.LagrangeBasis(self.xi_soln_pnts),\n",
    "            \"global\": poly.LagrangeBasis(self.x_soln_pnts)}\n",
    "        \n",
    "        self.D = self.basis[\"local\"].derivative(self.xi_soln_pnts)\n",
    "\n",
    "    def coord_l2g(self, xi):\n",
    "        \"\"\"coordinate transform from local (xi) to global (x)\"\"\"\n",
    "        return self.xc + self.J * xi\n",
    "\n",
    "    def coord_g2l(self, x):\n",
    "        \"\"\"coordinate transform from global (x) to local (xi)\"\"\"\n",
    "        return self.Jinv * (x - self.xc)"
   ]
  },
  {
   "cell_type": "code",
   "execution_count": 10,
   "metadata": {
    "code_folding": [
     0
    ],
    "collapsed": false,
    "run_control": {
     "frozen": false,
     "read_only": false
    }
   },
   "outputs": [],
   "source": [
    "class LocalSolutionPnts(object):\n",
    "    \"\"\"data structure for solution points built on a given element\"\"\"\n",
    "    \n",
    "    def __init__(self, element, flux, ic=numpy.zeros_like):\n",
    "        \"\"\"initialization\n",
    "        \n",
    "        Args:\n",
    "            element: an instance of class Element\n",
    "            flux: flux function defined from PDE\n",
    "            ic: initialization function, i.e., initial conditions\n",
    "        \"\"\"\n",
    "        # TODO: check the type of input arguments\n",
    "        \n",
    "        self.element = element\n",
    "        \n",
    "        self.props = {\n",
    "            \"ujk\": numpy.empty(self.element.K, dtype=numpy.float64),\n",
    "            \"fjk\": numpy.empty(self.element.K, dtype=numpy.float64)}\n",
    "        \n",
    "        self.setup_ujk(ic)\n",
    "        self.calculate_fjk(flux)\n",
    "    \n",
    "    def setup_ujk(self, ic=numpy.zeros_like):\n",
    "        \"\"\"set up (initialize) the value of u at solution points\"\"\"\n",
    "        self.props[\"ujk\"] = ic(self.element.x_soln_pnts)\n",
    "    \n",
    "    def calculate_fjk(self, f):\n",
    "        \"\"\"update f_{j, k}\n",
    "        \n",
    "        Args:\n",
    "            f: function of flux from PDE\n",
    "        \"\"\"\n",
    "        self.props[\"fjk\"] = f(self.props[\"ujk\"])\n",
    "    \n",
    "    def __call__(self, x, p_type=\"ujk\", c_type=\"local\"):\n",
    "        \"\"\"return interpolated u at location x (or xi)\n",
    "        \n",
    "        Args:\n",
    "            x: float, can be global or local (default) coordinates\n",
    "            p_type: string, \"ujk\" or \"fjk\", the properties on solution points\n",
    "                    that will be used for interpoation\n",
    "            c_type: string, \"local\" or \"global\", specifies the type of \n",
    "                    coordinates provided\n",
    "        \"\"\"\n",
    "        return numpy.dot(self.element.basis[c_type](x), self.props[p_type])\n",
    "    \n",
    "    def get_dfjk(self):\n",
    "        \"\"\"get derivatives of local discontinuous flux at solution points\"\"\"\n",
    "        \n",
    "        return numpy.dot(self.element.D, self.props[\"fjk\"])"
   ]
  },
  {
   "cell_type": "code",
   "execution_count": 11,
   "metadata": {
    "code_folding": [
     0,
     35,
     39,
     45,
     51,
     55
    ],
    "collapsed": false,
    "run_control": {
     "frozen": false,
     "read_only": false
    }
   },
   "outputs": [],
   "source": [
    "class ElementSet(object):\n",
    "    \"\"\"\"\"\"\n",
    "    \n",
    "    def __init__(self, config):\n",
    "        \"\"\"initialization\n",
    "        \n",
    "        Args:\n",
    "            config: an instance of class Config\n",
    "        \"\"\"\n",
    "        \n",
    "        self.xLB = config.xLB\n",
    "        self.xRB = config.xRB\n",
    "        self.Ne = config.Ne\n",
    "        \n",
    "        self._init_interface()\n",
    "        self._init_element()\n",
    "    \n",
    "    def _init_element(self):\n",
    "        \"\"\"initialize each element\"\"\"\n",
    "        \n",
    "        self.elements = {i: Element(config.K, self.interface_x[i], \n",
    "                                    self.interface_x[i+1], config.node_type)\n",
    "                         for i in range(self.Ne)}\n",
    "            \n",
    "        self.elements[-1] = self.elements[self.Ne-1]\n",
    "        self.elements[self.Ne] = self.elements[0]\n",
    "    \n",
    "    def _init_interface(self):\n",
    "        \"\"\"initialize interface information\"\"\"\n",
    "        \n",
    "        self.interface_x = numpy.linspace(self.xLB, self.xRB, self.Ne+1)\n",
    "        self.interface_i2e = {i: (i-1, i) for i in range(self.Ne+1)}\n",
    "        self.interface_e2i = {v: k for k, v in self.interface_i2e.items()}\n",
    "        self.interface_fupw = numpy.zeros_like(self.interface_x)\n",
    "\n",
    "    def __getitem__(self, key):\n",
    "        \"\"\"override the operator []\"\"\"\n",
    "        return self.elements[key]\n",
    "\n",
    "    def __setitem__(self, key, value):\n",
    "        \"\"\"override the operator [] when writing new values\"\"\"\n",
    "        \n",
    "        raise NotImplementedError(\n",
    "            \"changing single element using the operator [] is not supported\")\n",
    "\n",
    "    def __delitem__(self, key, value):\n",
    "        \"\"\"override the operator [] when writing new values\"\"\"\n",
    "        \n",
    "        raise NotImplementedError(\n",
    "            \"deleting single element using the operator [] is not supported\")\n",
    "\n",
    "    def __iter__(self):\n",
    "        \"\"\"return iterator\"\"\"\n",
    "        return self.elements.__iter__()\n",
    "    \n",
    "    def __next__(self):\n",
    "        \"\"\"override of __next__\"\"\"\n",
    "        self.elements.__next__()"
   ]
  },
  {
   "cell_type": "code",
   "execution_count": 12,
   "metadata": {
    "code_folding": [
     0
    ],
    "collapsed": true,
    "run_control": {
     "frozen": false,
     "read_only": false
    }
   },
   "outputs": [],
   "source": [
    "def u_init(x):\n",
    "    \"\"\"initial condition of u\"\"\"\n",
    "    temp = x - 0.5\n",
    "    return numpy.exp(-40 * temp * temp)"
   ]
  },
  {
   "cell_type": "code",
   "execution_count": 13,
   "metadata": {
    "code_folding": [
     0
    ],
    "collapsed": true,
    "run_control": {
     "frozen": false,
     "read_only": false
    }
   },
   "outputs": [],
   "source": [
    "def flux(u):\n",
    "    \"\"\"flux in PDE\"\"\"\n",
    "    return u"
   ]
  },
  {
   "cell_type": "code",
   "execution_count": null,
   "metadata": {
    "code_folding": [
     0
    ],
    "collapsed": true,
    "run_control": {
     "frozen": false,
     "read_only": false
    }
   },
   "outputs": [],
   "source": [
    "def u_exact(x, t):\n",
    "    \"\"\"exact solution of u\"\"\"\n",
    "    temp = x - 0.5 - t\n",
    "    return numpy.exp(-40 * temp * temp)"
   ]
  },
  {
   "cell_type": "code",
   "execution_count": null,
   "metadata": {
    "code_folding": [
     0
    ],
    "collapsed": true,
    "run_control": {
     "frozen": false,
     "read_only": false
    }
   },
   "outputs": [],
   "source": [
    "def RK4(u, dx, dt, rhs):\n",
    "    \"\"\"\"\"\"\n",
    "    k1 = rhs(u, dx, dt)\n",
    "    k2 = rhs(u + 0.5 * dt * k1, dx, dt)\n",
    "    k3 = rhs(u + 0.5 * dt * k2, dx, dt)\n",
    "    k4 = rhs(u + dt * k3, dx, dt)\n",
    "    u += dt * (k1 + 2. * k2 + 2. * k3 + k4) / 6.\n",
    "    return u"
   ]
  }
 ],
 "metadata": {
  "anaconda-cloud": {},
  "kernelspec": {
   "display_name": "Python [default]",
   "language": "python",
   "name": "python3"
  },
  "language_info": {
   "codemirror_mode": {
    "name": "ipython",
    "version": 3
   },
   "file_extension": ".py",
   "mimetype": "text/x-python",
   "name": "python",
   "nbconvert_exporter": "python",
   "pygments_lexer": "ipython3",
   "version": "3.5.2"
  }
 },
 "nbformat": 4,
 "nbformat_minor": 1
}
