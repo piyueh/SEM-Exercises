{
 "cells": [
  {
   "cell_type": "code",
   "execution_count": 1,
   "metadata": {
    "collapsed": true,
    "run_control": {
     "frozen": false,
     "read_only": false
    }
   },
   "outputs": [],
   "source": [
    "import numpy\n",
    "from matplotlib import pyplot\n",
    "from matplotlib import colors\n",
    "% matplotlib inline"
   ]
  },
  {
   "cell_type": "code",
   "execution_count": 2,
   "metadata": {
    "collapsed": true,
    "run_control": {
     "frozen": false,
     "read_only": false
    }
   },
   "outputs": [],
   "source": [
    "from collections.abc import Mapping"
   ]
  },
  {
   "cell_type": "code",
   "execution_count": 3,
   "metadata": {
    "collapsed": true,
    "run_control": {
     "frozen": false,
     "read_only": false
    }
   },
   "outputs": [],
   "source": [
    "import os, sys\n",
    "sys.path.append(os.path.split(os.getcwd())[0])"
   ]
  },
  {
   "cell_type": "code",
   "execution_count": 4,
   "metadata": {
    "collapsed": false,
    "run_control": {
     "frozen": false,
     "read_only": false
    }
   },
   "outputs": [],
   "source": [
    "import utils.poly as poly\n",
    "import utils.quadrature as quad"
   ]
  },
  {
   "cell_type": "markdown",
   "metadata": {},
   "source": [
    "### A. Problem description"
   ]
  },
  {
   "cell_type": "markdown",
   "metadata": {},
   "source": [
    "#### A-1. PDE"
   ]
  },
  {
   "cell_type": "markdown",
   "metadata": {},
   "source": [
    "$$\n",
    "\\frac{\\partial u}{\\partial t} + \\frac{\\partial u}{\\partial x} = 0\n",
    "$$"
   ]
  },
  {
   "cell_type": "markdown",
   "metadata": {},
   "source": [
    "#### A-2. Initial condition\n",
    "\n",
    "$$\n",
    "u_{init} = e^{-40(x-0.5)^2}\n",
    "$$"
   ]
  },
  {
   "cell_type": "code",
   "execution_count": 5,
   "metadata": {
    "code_folding": [
     0
    ],
    "collapsed": true,
    "run_control": {
     "frozen": false,
     "read_only": false
    }
   },
   "outputs": [],
   "source": [
    "def u_init(x):\n",
    "    \"\"\"initial condition of u\"\"\"\n",
    "    temp = x - 0.5\n",
    "    return numpy.exp(-40 * temp * temp)"
   ]
  },
  {
   "cell_type": "markdown",
   "metadata": {},
   "source": [
    "#### A-3. Exact solution\n",
    "\n",
    "$$\n",
    "u_{exact} = e^{\\left[-40(x-0.5-t)^2\\right]}\n",
    "$$"
   ]
  },
  {
   "cell_type": "markdown",
   "metadata": {},
   "source": [
    "#### A-4. Flux function\n",
    "\n",
    "The PDE is already in conservative form.\n",
    "And thus the flux of the conservation law in this problem is\n",
    "\n",
    "$$\n",
    "f(x) = f(u(x)) = u(x)\n",
    "$$"
   ]
  },
  {
   "cell_type": "code",
   "execution_count": 6,
   "metadata": {
    "code_folding": [
     0
    ],
    "collapsed": true,
    "run_control": {
     "frozen": false,
     "read_only": false
    }
   },
   "outputs": [],
   "source": [
    "def flux(u):\n",
    "    \"\"\"flux in PDE\"\"\"\n",
    "    return u"
   ]
  },
  {
   "cell_type": "markdown",
   "metadata": {},
   "source": [
    "#### A-5. Wave propagation speed, a\n",
    "\n",
    "$$\n",
    "a(x) = a(u) = \\frac{df}{du} = 1\n",
    "$$"
   ]
  },
  {
   "cell_type": "markdown",
   "metadata": {},
   "source": [
    "### B. Distribution of solution points on single element"
   ]
  },
  {
   "cell_type": "markdown",
   "metadata": {},
   "source": [
    "#### B-1. Equally distribution\n",
    "\n",
    "Solution points are equally distributed on a single element but exclude the two end nodes."
   ]
  },
  {
   "cell_type": "code",
   "execution_count": 7,
   "metadata": {
    "code_folding": [
     0
    ],
    "collapsed": true,
    "run_control": {
     "frozen": false,
     "read_only": false
    }
   },
   "outputs": [],
   "source": [
    "def equalDistrib(N):\n",
    "    \"\"\"\"\"\"\n",
    "    return numpy.linspace(-1., 1., N, endpoint=False) + 1. / N"
   ]
  },
  {
   "cell_type": "markdown",
   "metadata": {},
   "source": [
    "#### B-2. Legendre-Lobatto\n",
    "Solution points are the quadrature nodes of Gauss-Lobatto-Legendre quadrature."
   ]
  },
  {
   "cell_type": "code",
   "execution_count": 8,
   "metadata": {
    "code_folding": [
     0
    ],
    "collapsed": true,
    "run_control": {
     "frozen": false,
     "read_only": false
    }
   },
   "outputs": [],
   "source": [
    "def LegendreLobatto(N):\n",
    "    \"\"\"\"\"\"\n",
    "    return quad.GaussLobattoJacobi(N).nodes"
   ]
  },
  {
   "cell_type": "markdown",
   "metadata": {},
   "source": [
    "#### B-3. Gauss (or Legendre-Gauss)\n",
    "Solution points are the quadrature nodes of Gauss-Legendre quadrature."
   ]
  },
  {
   "cell_type": "code",
   "execution_count": 9,
   "metadata": {
    "code_folding": [
     0
    ],
    "collapsed": true,
    "run_control": {
     "frozen": false,
     "read_only": false
    }
   },
   "outputs": [],
   "source": [
    "def LegendreGauss(N):\n",
    "    \"\"\"\"\"\"\n",
    "    return quad.GaussJacobi(N).nodes"
   ]
  },
  {
   "cell_type": "markdown",
   "metadata": {},
   "source": [
    "#### B-4. Chebyshev-Lobatto\n",
    "Solution points are the quadrature nodes of Gauss-Lobatto-Chebyshev quadrature."
   ]
  },
  {
   "cell_type": "code",
   "execution_count": 10,
   "metadata": {
    "code_folding": [
     0
    ],
    "collapsed": true,
    "run_control": {
     "frozen": false,
     "read_only": false
    }
   },
   "outputs": [],
   "source": [
    "def ChebyshevLobatto(N):\n",
    "    \"\"\"\"\"\"\n",
    "    return - numpy.cos(numpy.arange(N, dtype=numpy.float64) * numpy.pi / (N-1))"
   ]
  },
  {
   "cell_type": "markdown",
   "metadata": {},
   "source": [
    "Finally, let's define a dictionary collecting these distribution functions for the purpose of later coding."
   ]
  },
  {
   "cell_type": "code",
   "execution_count": 11,
   "metadata": {
    "collapsed": true
   },
   "outputs": [],
   "source": [
    "soln_point_distrib = {\n",
    "    \"equal\": equalDistrib,\n",
    "    \"LegendreLobatto\": LegendreLobatto,\n",
    "    \"LegendreGauss\": LegendreGauss,\n",
    "    \"ChebyshevLobatto\": ChebyshevLobatto\n",
    "}"
   ]
  },
  {
   "cell_type": "markdown",
   "metadata": {},
   "source": [
    "### C. Flux correction function ($g_{LB}$ and $g_{RB}$)\n",
    "\n",
    "Though what we'll define mathematically are flux correction functions (i.e. $g_{LB}$ and $g_{RB}$), \n",
    "we only need the derivatives of these functions at solution points in numerical solvers, that is, $\\frac{dg_{LB}}{d\\xi}(\\xi_k)$ and $\\frac{dg_{RB}}{d\\xi}(\\xi_k)$, where $\\xi_k,\\ k=1,\\dots,N$ are solution points on each element.\n",
    "So the Python function defined below only return a `numpy.ndarray` of these derivatives.\n",
    "\n",
    "$N$ in this section always represents the number of solution points on each element."
   ]
  },
  {
   "cell_type": "markdown",
   "metadata": {},
   "source": [
    "#### C-1. Discontinuous Galerkin, $g_{DG}$ (a.k.a. $g_1$)\n",
    "\n",
    "$g_{DG}$ is defined as Radau polynomial (p.s. the roots of Radau polynomials are the quadrature nodes of Gauss-Radau-Legendre quadrature).\n",
    "\n",
    "$$\n",
    "\\left\\{\n",
    "\\begin{align*}\n",
    "g_{DG,LB}(\\xi) & = R_{R,N}(\\xi) = (-1)^N\\frac{1}{2}(L_N(\\xi) - L_{N-1}(\\xi)) \\\\\n",
    "g_{DG,RB}(\\xi) & = R_{L,N}(\\xi) = \\frac{1}{2}(L_N(\\xi) + L_{N-1}(\\xi)) \\\\\n",
    "\\end{align*}\n",
    "\\right.\n",
    "$$\n",
    "\n",
    "where the subscripts $LB$ and $RB$ denote whether the functions apply to left or right interface of each element; $R_{R,N}$ and $R_{L,N}$ are right- and left-Radau polynomial of order $N$; $L_N$ represents Legendre polynomial of order $N$."
   ]
  },
  {
   "cell_type": "code",
   "execution_count": 12,
   "metadata": {
    "code_folding": [
     0
    ],
    "collapsed": false
   },
   "outputs": [],
   "source": [
    "def dgDG(xi, side):\n",
    "    \"\"\"flux correction scheme: discontinuous Galerkin, aka. g1\n",
    "    \n",
    "    This function returns the derivatives of g_{DG} at solution points\n",
    "    \n",
    "    Args:\n",
    "        xi: numpy.ndarray, local coordinates of solution points\n",
    "        side: string, either 'left' or 'right', indicating which bouyndary of \n",
    "              element will be corrected\n",
    "    \"\"\"\n",
    "    \n",
    "    # number of solution points, also the order of correction polynomial\n",
    "    N = xi.size\n",
    "    \n",
    "    # dg/dx\n",
    "    if side == 'left':\n",
    "        dg = poly.Radau(N, end=1).derive()\n",
    "    elif side == 'right':\n",
    "        dg = poly.Radau(N, end=-1).derive()\n",
    "    else:\n",
    "        raise ValueError(\"illegal value for argument 'side'\")\n",
    "    return dg(xi)    "
   ]
  },
  {
   "cell_type": "markdown",
   "metadata": {},
   "source": [
    "#### C-2. Correction function based on staggered-grid  spectral difference, $g_{SG}$\n",
    "\n",
    "$g_{SG}$ is a Lagrange interpolation polynomial of which the basis polynomials are defined by Chebyshev-Lobatto points and the values at these points are zero except the targeting interface point. The value of the targeting interface point (i.e. $\\xi=-1$ or $\\xi=1$) is one.\n",
    "\n",
    "$$\n",
    "g_{SG}(\\xi) = \\sum_{i=0}^{N} g_i \\prod_{\\begin{smallmatrix}j=0 \\\\ j\\ne i\\end{smallmatrix}}^{N} \\frac{\\xi-\\xi_j}{\\xi_i-\\xi_j}\n",
    "$$\n",
    "\n",
    "For $g_{SG,LB}$, $g_0=1$ and $g_i=0$ for $i=1,\\dots,N$. While for $g_{SG,RB}$, $g_i=0$ for $k=0,\\dots,N-1$ and $g_N=1$. $\\xi_i,\\ k=0,\\dots,N$ denotes $N+1$ Chebyshev-Lobatto points.\n",
    "\n",
    "Given that values at most basis points (i.e. $g_i$) are zero, we can further simplify it.\n",
    "\n",
    "$$\n",
    "\\left\\{\n",
    "\\begin{align*}\n",
    "g_{SG,LB}(\\xi) & = \\prod_{\\begin{smallmatrix}j=0 \\\\ j\\ne 0\\end{smallmatrix}}^{N} \\frac{\\xi-\\xi_j}{\\xi_0-\\xi_j} \\\\\n",
    "g_{SG,RB}(\\xi) & = \\prod_{\\begin{smallmatrix}j=0 \\\\ j\\ne N\\end{smallmatrix}}^{N} \\frac{\\xi-\\xi_j}{\\xi_N-\\xi_j}\n",
    "\\end{align*}\n",
    "\\right.\n",
    "$$"
   ]
  },
  {
   "cell_type": "code",
   "execution_count": 13,
   "metadata": {
    "code_folding": [
     0
    ],
    "collapsed": true
   },
   "outputs": [],
   "source": [
    "def dgSG(xi, side):\n",
    "    \"\"\"flux correction scheme: stagger grid spectral difference\n",
    "    \n",
    "    This function returns the derivatives of g_{SG} at solution points\n",
    "    \n",
    "    Args:\n",
    "        xi: numpy.ndarray, local coordinates of solution points\n",
    "        side: string, either 'left' or 'right', indicating which bouyndary of \n",
    "              element will be corrected\n",
    "    \"\"\"\n",
    "    \n",
    "    # number of solution points, also the order of correction polynomial\n",
    "    N = xi.size\n",
    "    nodes = ChebyshevLobatto(N+1)\n",
    "    \n",
    "    # dg/dx\n",
    "    if side == 'left':\n",
    "        g = poly.Polynomial(roots=nodes[1:])\n",
    "        g /= g(nodes[0])\n",
    "    elif side == 'right':\n",
    "        g = poly.Polynomial(roots=nodes[:-1])\n",
    "        g /= g(nodes[-1])\n",
    "    else:\n",
    "        raise ValueError(\"illegal value for argument 'side'\")\n",
    "    \n",
    "    return g.derive()(xi)"
   ]
  },
  {
   "cell_type": "markdown",
   "metadata": {},
   "source": [
    "#### C-3. Lumping for Lobatto points, $g_{Lump,Lo}$ (a.k.a. $g_2$)\n",
    "\n",
    "$g_{Lump,Lo}$ is defined through $N$ Legendre-Lobatto points, $\\xi_i,\\ i=1,\\dots,N$.\n",
    "For correction at left interface ($g_{Lump,Lo,LB}$), we want the following properties:\n",
    "\n",
    "1. $g_{Lump,Lo,LB}(\\xi_1)$=$g_{Lump,Lo,LB}(-1)=1$\n",
    "2. $g_{Lump,Lo,LB}(\\xi_N)$=$g_{Lump,Lo,LB}(1)=0$\n",
    "3. $g'_{Lump,Lo,LB}(\\xi_i)=0,\\ for\\ i=2,\\dots,N$\n",
    "\n",
    "Based on these properties, we can first define the differential of the function:\n",
    "$$\n",
    "g'_{Lump,Lo,LB}(\\xi) = C_1\\prod_{i=2}^{N}(\\xi-xi_i)\n",
    "$$\n",
    "Carry out indefinite integration, we get\n",
    "$$\n",
    "g_{Lump,Lo,LB}(\\xi) = C_1\\int\\prod_{i=2}^{N}(\\xi-xi_i)d\\xi + C_2 = C_1 p(\\xi) + C_2\n",
    "$$\n",
    "where $p(\\xi) \\equiv \\int\\prod_{i=2}^{N}(\\xi-xi_i)d\\xi$. After applying the first and the second property abovementioned, we can obtain that\n",
    "$$\n",
    "\\left\\{\n",
    "\\begin{align*}\n",
    "C_1 = & 1 \\mathbin{/} (p(-1) - p(1)) \\\\\n",
    "C_2 = & - p(1) \\mathbin{/} (p(-1) - p(1))\n",
    "\\end{align*}\n",
    "\\right.\n",
    "$$\n",
    "\n",
    "For right-interface correction function, similar properties are induced:\n",
    "1. $g_{Lump,Lo,RB}(\\xi_N)$=$g_{Lump,Lo,RB}(1)=1$\n",
    "2. $g_{Lump,Lo,RB}(\\xi_1)$=$g_{Lump,Lo,RB}(-1)=0$\n",
    "3. $g'_{Lump,Lo,LB}(\\xi_i)=0,\\ for\\ i=1,\\dots,N-1$\n",
    "\n",
    "And $g_{Lump,Lo,RB}(\\xi)$ can be obtained following the same workflow.\n",
    "\n",
    "In fact, given that $\\xi_i$ are Legendre-Lobatto points, we can get Radau polynomial representations of $g_{Lump,Lo}$:\n",
    "$$\n",
    "\\left\\{\n",
    "\\begin{align*}\n",
    "g_{Lump,Lo,LB}(\\xi) &= \\frac{1}{2N-1}((K-1)R_{R,N}(\\xi) + KR_{R,N}(\\xi)) \\\\\n",
    "g_{Lump,Lo,RB}(\\xi) &= \\frac{1}{2N-1}((K-1)R_{L,N}(\\xi) + KR_{L,N}(\\xi))\n",
    "\\end{align*}\n",
    "\\right.\n",
    "$$\n",
    "However, if $\\xi_i$ are not Legendre-Lobatto points, we can still go through the workflow to obtain $g_{Lump,XX}$ (for example, see the next correction function), but we may not be able to get the Radau representations."
   ]
  },
  {
   "cell_type": "markdown",
   "metadata": {},
   "source": [
    "##### Additional note\n",
    "If solution points are chosen to be the same as points defining $g_{Lump,XX}$, then we don't even have to define correction function nor differential of the function. This is because the derivatives of $g_{Lump,XX}$ at interior solution points are zero by definition, and the derivative at targeting interface point can be obtained analytically, while that at the other interface point is zero.\n",
    "\n",
    "For example, if solution points are Legendre-Lobatto points, and the correction function is $g_{Lump,Lo}$, then the derivatives of $g_{Lump,Lo}$ at these solution points are\n",
    "$$\n",
    "\\left\\{\n",
    "\\begin{align*}\n",
    "&g'_{Lump,Lo,LB}(\\xi_1) = -N(N-1)/2;\\ g'_{Lump,Lo,LB}(\\xi_i) = 0\\ for\\ i=2,\\dots,N\\\\\n",
    "&g'_{Lump,Lo,RB}(\\xi_N) = N(N-1)/2;\\ g'_{Lump,Lo,LB}(\\xi_i) = 0\\ for\\ i=1,\\dots,N-1\n",
    "\\end{align*}\n",
    "\\right.\n",
    "$$"
   ]
  },
  {
   "cell_type": "code",
   "execution_count": 14,
   "metadata": {
    "code_folding": [
     0
    ],
    "collapsed": true
   },
   "outputs": [],
   "source": [
    "def dgLumpLo(xi, side):\n",
    "    \"\"\"flux correction scheme: lumpped Legendre-Lobatto, aka. g2\n",
    "    \n",
    "    This function returns the derivatives of g_{Lump,Lo} at solution points\n",
    "    \n",
    "    Args:\n",
    "        xi: numpy.ndarray, local coordinates of solution points\n",
    "        side: string, either 'left' or 'right', indicating which bouyndary of \n",
    "              element will be corrected\n",
    "    \"\"\"\n",
    "    \n",
    "    # number of solution points, also the order of correction polynomial\n",
    "    N = xi.size\n",
    "    nodes = quad.GaussLobattoJacobi(N).nodes\n",
    "    \n",
    "    # dg/dx\n",
    "    if side == 'left':\n",
    "        dg = poly.Polynomial(roots=nodes[1:])\n",
    "        \n",
    "        g = dg.integral()  # note: this is indefinite integral!\n",
    "        # correct the scaling, so that final g(-1) = 1\n",
    "        leading = 1. / (g(-1) - g(1))\n",
    "    elif side == 'right':\n",
    "        dg = poly.Polynomial(roots=nodes[:-1])\n",
    "        \n",
    "        g = dg.integral()  # note: this is indefinite integral!\n",
    "        # correct the scaling, so that final g(1) = 1\n",
    "        leading = 1. / (g(1) - g(-1))\n",
    "    else:\n",
    "        raise ValueError(\"illegal value for argument 'side'\")\n",
    "    \n",
    "    return dg(xi) * leading"
   ]
  },
  {
   "cell_type": "markdown",
   "metadata": {},
   "source": [
    "#### C-4. Lumping for Chebyshev-Lobatto points, $g_{Lump,Ch-Lo}$\n",
    "\n",
    "$g_{Lump,Ch-Lo}$ is defined by the same definitions of $g_{Lump,Lo}$, except now the points defining the function (i.e. $\\xi_i$) are Chebyshev-Lobatto points. Therefore, we can get $g_{Lump,Ch-Lo}$ through the same workflow of $g_{Lump,Lo}$."
   ]
  },
  {
   "cell_type": "code",
   "execution_count": 15,
   "metadata": {
    "code_folding": [
     0
    ],
    "collapsed": true
   },
   "outputs": [],
   "source": [
    "def dgLumpChLo(xi, side):\n",
    "    \"\"\"flux correction scheme: lumpped Chebyshev-Lobatto, aka. g2\n",
    "    \n",
    "    This function returns the derivatives of g_{Lump,Ch-Lo} at solution points\n",
    "    \n",
    "    Args:\n",
    "        xi: numpy.ndarray, local coordinates of solution points\n",
    "        side: string, either 'left' or 'right', indicating which bouyndary of \n",
    "              element will be corrected\n",
    "    \"\"\"\n",
    "    \n",
    "    # number of solution points, also the order of correction polynomial\n",
    "    N = xi.size\n",
    "    nodes = ChebyshevLobatto(N)\n",
    "    \n",
    "    # dg/dx\n",
    "    if side == 'left':\n",
    "        dg = poly.Polynomial(roots=nodes[1:])\n",
    "        \n",
    "        g = dg.integral()  # note: this is indefinite integral!\n",
    "        # correct the scaling, so that final g(-1) = 1\n",
    "        leading = 1. / (g(-1) - g(1))\n",
    "    elif side == 'right':\n",
    "        dg = poly.Polynomial(roots=nodes[:-1])\n",
    "        \n",
    "        g = dg.integral()  # note: this is indefinite integral!\n",
    "        # correct the scaling, so that final g(1) = 1\n",
    "        leading = 1. / (g(1) - g(-1))\n",
    "    else:\n",
    "        raise ValueError(\"illegal value for argument 'side'\")\n",
    "    \n",
    "    return dg(xi) * leading"
   ]
  },
  {
   "cell_type": "markdown",
   "metadata": {},
   "source": [
    "#### C-5. Staggered-grid scheme with Gauss points, $g_{Ga}$\n",
    "\n",
    "The definition of $g_{Ga}$ follows the same concept of $g_{SG}$, except that now the points defining Lagrange basis polynomial are $N-1$ Gauss points plus $\\xi=-1$ and $\\xi=1$ at the ends. That is,\n",
    "$$\n",
    "\\left\\{\n",
    "\\begin{align*}\n",
    "&\\xi_0 = -1 \\\\\n",
    "&\\xi_N = 1 \\\\\n",
    "&\\xi_i = the\\ i_{th}\\ root\\ of\\ L_{N-1}(\\xi),\\ for\\ i=1,\\dots,N-1\n",
    "\\end{align*}\n",
    "\\right.\n",
    "$$\n",
    "The remaining part of the definition follows that of $g_{SG}$."
   ]
  },
  {
   "cell_type": "code",
   "execution_count": 16,
   "metadata": {
    "code_folding": [
     0
    ],
    "collapsed": true
   },
   "outputs": [],
   "source": [
    "def dgGa(xi, side):\n",
    "    \"\"\"flux correction scheme: stagger grid spectral difference, but with Gauss\n",
    "    quadrature points as interior zeros\n",
    "    \n",
    "    This function returns the derivatives of g_{Ga} at solution points\n",
    "    \n",
    "    Args:\n",
    "        xi: numpy.ndarray, local coordinates of solution points\n",
    "        side: string, either 'left' or 'right', indicating which bouyndary of \n",
    "              element will be corrected\n",
    "    \"\"\"\n",
    "    \n",
    "    # number of solution points, also the order of correction polynomial\n",
    "    N = xi.size\n",
    "    nodes = numpy.pad(quad.GaussJacobi(N-1).nodes, \n",
    "                      (1, 1), 'constant', constant_values=(-1., 1.))\n",
    "    \n",
    "    # dg/dx\n",
    "    if side == 'left':\n",
    "        g = poly.Polynomial(roots=nodes[1:])\n",
    "        g /= g(nodes[0])\n",
    "    elif side == 'right':\n",
    "        g = poly.Polynomial(roots=nodes[:-1])\n",
    "        g /= g(nodes[-1])\n",
    "    else:\n",
    "        raise ValueError(\"illegal value for argument 'side'\")\n",
    "    \n",
    "    return g.derive()(xi)"
   ]
  },
  {
   "cell_type": "markdown",
   "metadata": {},
   "source": [
    "Again, let's define a dictionary to collect these correction function."
   ]
  },
  {
   "cell_type": "code",
   "execution_count": 17,
   "metadata": {
    "collapsed": true
   },
   "outputs": [],
   "source": [
    "d_correction_func = {\n",
    "    \"DG\": dgDG,\n",
    "    \"SG\": dgSG,\n",
    "    \"LumpLo\": dgLumpLo,\n",
    "    \"LumpChLo\": dgLumpChLo,\n",
    "    \"Ga\": dgGa\n",
    "}"
   ]
  },
  {
   "cell_type": "code",
   "execution_count": 57,
   "metadata": {
    "code_folding": [],
    "collapsed": false,
    "run_control": {
     "frozen": false,
     "read_only": false
    }
   },
   "outputs": [],
   "source": [
    "config = dict(\n",
    "    xLB = 0., \n",
    "    xRB = 1., \n",
    "    Ne = 10, \n",
    "    order = 4,\n",
    "    g_type = \"SG\",\n",
    "    node_type = \"equalDistrib\",\n",
    "    dt = 0.023148148148148147)"
   ]
  },
  {
   "cell_type": "code",
   "execution_count": 13,
   "metadata": {
    "code_folding": [],
    "collapsed": false,
    "run_control": {
     "frozen": false,
     "read_only": false
    }
   },
   "outputs": [],
   "source": [
    "class Element(numpy.ndarray):\n",
    "    \"\"\"\"\"\"\n",
    "    \n",
    "    def __new__(cls, xL, xR, x):\n",
    "        \"\"\"initialization\n",
    "        \n",
    "        Args:\n",
    "            xL: float, the coordinate of left boundary\n",
    "            xR: float, the coordinate of right boundary\n",
    "            x: array-like float, global coordinates of points on this element\n",
    "        \"\"\"\n",
    "        # TODO: check the type of input arguments\n",
    "        \n",
    "        return x.view(cls)\n",
    "    \n",
    "    def __init__(self, xL, xR, x):\n",
    "        \"\"\"initialization\n",
    "        \n",
    "        Args:\n",
    "            xL: float, the coordinate of left boundary\n",
    "            xR: float, the coordinate of right boundary\n",
    "            x: array-like float, global coordinates of points on this element\n",
    "        \"\"\"\n",
    "        # TODO: check the type of input arguments\n",
    "        \n",
    "        self.xL = numpy.float64(xL)\n",
    "        self.xR = numpy.float64(xR)\n",
    "        self.h = self.xR - self.xL\n",
    "        self.xc = 0.5 * (self.xL + self.xR)\n",
    "        self.J = 0.5 * self.h\n",
    "        self.Jinv = 2. / self.h\n",
    "        \n",
    "        self.basis = poly.LagrangeBasis(x)\n",
    "        self.D = self.basis.derivative(x)\n",
    "        \n",
    "        self.K = x.size\n",
    "\n",
    "    def coord_l2g(self, xi):\n",
    "        \"\"\"coordinate transform from local (xi) to global (x)\"\"\"\n",
    "        return self.xc + self.J * xi\n",
    "\n",
    "    def coord_g2l(self, x):\n",
    "        \"\"\"coordinate transform from global (x) to local (xi)\"\"\"\n",
    "        return self.Jinv * (x - self.xc)"
   ]
  },
  {
   "cell_type": "code",
   "execution_count": 14,
   "metadata": {
    "code_folding": [],
    "collapsed": false,
    "run_control": {
     "frozen": false,
     "read_only": false
    }
   },
   "outputs": [],
   "source": [
    "class ElementSet(object):\n",
    "    \"\"\"\"\"\"\n",
    "    \n",
    "    distrib_pnts = {\n",
    "        \"equal\": equalDistrib,\n",
    "        \"LegendreLobatto\": LegendreLobatto,\n",
    "        \"LegendreGauss\": LegendreGauss,\n",
    "        \"ChebyshevLobatto\": ChebyshevLobatto}\n",
    "    \n",
    "    def __init__(self, config):\n",
    "        \"\"\"initialization\n",
    "        \n",
    "        Args:\n",
    "            config: an instance of class Config\n",
    "        \"\"\"\n",
    "        \n",
    "        self.K = config['K']\n",
    "        self.xLB = config[\"xLB\"]\n",
    "        self.xRB = config[\"xRB\"]\n",
    "        self.Ne = config[\"Ne\"]\n",
    "        self.distrib = config[\"node_type\"]\n",
    "        \n",
    "        self._init_interface()\n",
    "        self._init_element()\n",
    "        self._build_transform()\n",
    "        self._get_all_x()\n",
    "    \n",
    "    def _init_element(self):\n",
    "        \"\"\"initialize each element\"\"\"\n",
    "        \n",
    "        self.elements = {\n",
    "            i: Element(self.interface_x[i], self.interface_x[i+1],\n",
    "                       self.distrib_pnts[self.distrib](self.K))\n",
    "                         for i in range(self.Ne)}\n",
    "\n",
    "    def _build_transform(self):\n",
    "        \"\"\"\"\"\"\n",
    "        \n",
    "        self.Np = 0\n",
    "        self.jk2g = {}\n",
    "        self.g2jk = {}\n",
    "        for j in range(self.Ne):\n",
    "            self.jk2g.update({(j, k): self.Np+k for k in range(self.elements[j].K)})\n",
    "            self.g2jk.update({self.Np+k: (j, k) for k in range(self.elements[j].K)})\n",
    "            self.Np += self.elements[j].K\n",
    "    \n",
    "    def _init_interface(self):\n",
    "        \"\"\"initialize interface information\"\"\"\n",
    "        \n",
    "        self.Ni = self.Ne + 1\n",
    "        self.interface_x = numpy.linspace(self.xLB, self.xRB, self.Ni)\n",
    "        self.interface_i2e = {i: (i-1, i) for i in range(self.Ni)}\n",
    "        self.interface_e2i = {v: k for k, v in self.interface_i2e.items()}\n",
    "    \n",
    "    def _get_all_x(self):\n",
    "        \"\"\"\"\"\"\n",
    "        # TODO: not perfect\n",
    "        self.x = numpy.zeros(self.Np, dtype=numpy.float64)\n",
    "        for i, (j, k) in self.g2jk.items():\n",
    "            self.x[i] = self.elements[j].coord_l2g(self.elements[j][k])"
   ]
  },
  {
   "cell_type": "code",
   "execution_count": 15,
   "metadata": {
    "code_folding": [],
    "collapsed": false,
    "run_control": {
     "frozen": false,
     "read_only": false
    }
   },
   "outputs": [],
   "source": [
    "class LocalSolutionPnts(numpy.ndarray):\n",
    "    \"\"\"data structure for solution valuess built on a given element\"\"\"\n",
    "    \n",
    "    def __new__(cls, element, x):\n",
    "        \"\"\"initialization\n",
    "        \n",
    "        Args:\n",
    "            x: array-like float, global coordinates of points on this element\n",
    "        \"\"\"\n",
    "        # TODO: check the type of input arguments\n",
    "        \n",
    "        return x.view(cls)\n",
    "    \n",
    "    def __init__(self, element, x):\n",
    "        \"\"\"initialization\n",
    "        \n",
    "        Args:\n",
    "            element: an instance of class Element\n",
    "            ic: initialization function, i.e., initial conditions\n",
    "        \"\"\"\n",
    "        # TODO: check the type of input arguments\n",
    "        \n",
    "        self.element = element\n",
    "    \n",
    "    def __call__(self, xi):\n",
    "        \"\"\"return interpolated u at location x (or xi)\n",
    "        \n",
    "        Args:\n",
    "            xi: float, local coordinates\n",
    "        \"\"\"\n",
    "        return numpy.dot(self.element.basis(xi), self.__array__())"
   ]
  },
  {
   "cell_type": "code",
   "execution_count": 16,
   "metadata": {
    "code_folding": [],
    "collapsed": false,
    "run_control": {
     "frozen": false,
     "read_only": false
    }
   },
   "outputs": [],
   "source": [
    "class SolutionPntSet(numpy.ndarray):\n",
    "    \"\"\"\"\"\"\n",
    "    \n",
    "    def __new__(cls, grid, ic):\n",
    "        \"\"\"\"\"\"\n",
    "        obj = ic.copy().view(cls)\n",
    "        obj.grid = grid\n",
    "        obj.local_soln = {}\n",
    "        for i in range(obj.grid.Ne):\n",
    "            \n",
    "            bg = obj.grid.jk2g[(i, 0)]\n",
    "            ed = bg + obj.grid.K\n",
    "            \n",
    "            obj.local_soln[i] = LocalSolutionPnts(\n",
    "                obj.grid.elements[i], obj[bg:ed])\n",
    "        \n",
    "        obj.update_ghost()\n",
    "        \n",
    "        return obj\n",
    "    \n",
    "    def update_ghost(self):\n",
    "        \"\"\"\n",
    "        Currently only support periodic BC\n",
    "        \"\"\"\n",
    "        self.local_soln[-1] = self.local_soln[self.grid.Ne-1]\n",
    "        self.local_soln[self.grid.Ne] = self.local_soln[0]"
   ]
  },
  {
   "cell_type": "code",
   "execution_count": 76,
   "metadata": {
    "code_folding": [],
    "collapsed": true,
    "run_control": {
     "frozen": false,
     "read_only": false
    }
   },
   "outputs": [],
   "source": [
    "class FR1D(object):\n",
    "    \"\"\"\"\"\"\n",
    "    \n",
    "    def __init__(self, flux, grid, config):\n",
    "        \"\"\"\"\"\"\n",
    "        \n",
    "        self.grid = grid\n",
    "        self.flux = flux\n",
    "        #self.dgBL = poly.Radau(self.grid.K, end=1.).derive()\n",
    "        #self.dgRL = poly.Radau(self.grid.K, end=-1.).derive()\n",
    "        self.dgBL = poly.Lagrange(ChebyshevLobatto(self.grid.K+1),\n",
    "                     numpy.array([1.]+self.grid.K*[0.])).derivative\n",
    "        self.dgRL = poly.Lagrange(ChebyshevLobatto(self.grid.K+1),\n",
    "                     numpy.array(self.grid.K*[0.]+[1.])).derivative\n",
    "    \n",
    "    def __call__(self, u):\n",
    "        \"\"\"\n",
    "        \n",
    "        Return RHS in time-marching schemes\n",
    "        \"\"\"\n",
    "        pass\n",
    "        \n",
    "        # step 1 & 2: calculate fupw at each interface\n",
    "        fupw = self._cal_fupw(u)\n",
    "        \n",
    "        # step 3, 4: calculate df/dxi at solution points\n",
    "        dF = self._get_dfjk(u, fupw)\n",
    "        \n",
    "        return dF\n",
    "    \n",
    "    def _cal_fupw(self, u):\n",
    "        \"\"\"\"\"\"\n",
    "        fupw = numpy.zeros_like(self.grid.interface_x)\n",
    "        for i in range(self.grid.Ni):\n",
    "            (idL, idR) = self.grid.interface_i2e[i]\n",
    "            uL = u.local_soln[idL](1.0)\n",
    "            uR = u.local_soln[idR](-1.0)\n",
    "            f_uL = self.flux(uL)\n",
    "            f_uR = self.flux(uR)\n",
    "            \n",
    "            # for different kind problem, both cases have different values of a\n",
    "            if uL == uR:\n",
    "                a = 1.\n",
    "            else:\n",
    "                a = (f_uR - f_uL) / (uR - uL)\n",
    "            \n",
    "            fupw[i] = 0.5 * (f_uL + f_uR) - 0.5 * numpy.abs(a) * (uR - uL)\n",
    "        \n",
    "        return fupw\n",
    "    \n",
    "    def _get_dfjk(self, u, fupw):\n",
    "        \"\"\"\"\"\"\n",
    "        df = SolutionPntSet(self.grid, self.flux(u))\n",
    "        for j, e in self.grid.elements.items():\n",
    "            fLupw = fupw[self.grid.interface_e2i[(j-1, j)]]\n",
    "            fRupw = fupw[self.grid.interface_e2i[(j, j+1)]]\n",
    "            fjL = df.local_soln[j](-1.)\n",
    "            fjR = df.local_soln[j](1.)\n",
    "            correctL = (fLupw - fjL) * self.dgBL(e)\n",
    "            correctR = (fRupw - fjR) * self.dgRL(e)\n",
    "            df.local_soln[j][:] = \\\n",
    "                numpy.dot(e.D, df.local_soln[j]) + correctL + correctR\n",
    "            df.local_soln[j][:] *= e.Jinv\n",
    "            \n",
    "        return df"
   ]
  },
  {
   "cell_type": "code",
   "execution_count": 86,
   "metadata": {
    "collapsed": true,
    "run_control": {
     "frozen": false,
     "read_only": false
    }
   },
   "outputs": [],
   "source": [
    "xBC_L = 0.\n",
    "xBC_R = 1.\n",
    "L = 1.\n",
    "\n",
    "N = 10\n",
    "Npe = 4\n",
    "Np = N * Npe\n",
    "\n",
    "CFL = 0.750469\n",
    "dx = L / Np\n",
    "Nt = 432\n",
    "dt = 10./Nt"
   ]
  },
  {
   "cell_type": "code",
   "execution_count": 53,
   "metadata": {
    "collapsed": false
   },
   "outputs": [
    {
     "data": {
      "text/plain": [
       "0.023148148148148147"
      ]
     },
     "execution_count": 53,
     "metadata": {},
     "output_type": "execute_result"
    }
   ],
   "source": [
    "10 /432"
   ]
  },
  {
   "cell_type": "code",
   "execution_count": 87,
   "metadata": {
    "collapsed": false,
    "run_control": {
     "frozen": false,
     "read_only": false
    }
   },
   "outputs": [],
   "source": [
    "config = Config()\n",
    "E = ElementSet(config)\n",
    "u = SolutionPntSet(E, u_init(E.x))\n",
    "fr = FR1D(flux, E, config)"
   ]
  },
  {
   "cell_type": "code",
   "execution_count": 83,
   "metadata": {
    "code_folding": [],
    "collapsed": true,
    "run_control": {
     "frozen": false,
     "read_only": false
    }
   },
   "outputs": [],
   "source": [
    "def RK4(u, dt, rhs):\n",
    "    \"\"\"\"\"\"\n",
    "    k1 = rhs(u)\n",
    "    k2 = rhs(SolutionPntSet(E, u-0.5*dt*k1))\n",
    "    k3 = rhs(SolutionPntSet(E, u-0.5*dt*k2))\n",
    "    k4 = rhs(SolutionPntSet(E, u-dt*k3))\n",
    "    u -= dt * (k1 + 2. * k2 + 2. * k3 + k4) / 6.\n",
    "    return u"
   ]
  },
  {
   "cell_type": "code",
   "execution_count": 88,
   "metadata": {
    "collapsed": false,
    "run_control": {
     "frozen": false,
     "read_only": false
    }
   },
   "outputs": [],
   "source": [
    "for i in range(5*Nt):\n",
    "    RK4(u, dt, fr)"
   ]
  },
  {
   "cell_type": "code",
   "execution_count": 89,
   "metadata": {
    "collapsed": false,
    "run_control": {
     "frozen": false,
     "read_only": false
    }
   },
   "outputs": [
    {
     "data": {
      "text/plain": [
       "[<matplotlib.lines.Line2D at 0x7f1d3d06df28>]"
      ]
     },
     "execution_count": 89,
     "metadata": {},
     "output_type": "execute_result"
    },
    {
     "data": {
      "image/png": "[encoded data removed]",
      "text/plain": [
       "<matplotlib.figure.Figure at 0x7f1d3d06d358>"
      ]
     },
     "metadata": {},
     "output_type": "display_data"
    }
   ],
   "source": [
    "pyplot.plot(E.x, u_init(E.x))\n",
    "pyplot.plot(E.x, u)"
   ]
  }
 ],
 "metadata": {
  "anaconda-cloud": {},
  "kernelspec": {
   "display_name": "Python [default]",
   "language": "python",
   "name": "python3"
  },
  "language_info": {
   "codemirror_mode": {
    "name": "ipython",
    "version": 3
   },
   "file_extension": ".py",
   "mimetype": "text/x-python",
   "name": "python",
   "nbconvert_exporter": "python",
   "pygments_lexer": "ipython3",
   "version": "3.5.2"
  }
 },
 "nbformat": 4,
 "nbformat_minor": 1
}
