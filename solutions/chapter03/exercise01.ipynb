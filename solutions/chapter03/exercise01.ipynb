{
 "cells": [
  {
   "cell_type": "markdown",
   "metadata": {},
   "source": [
    "Exercise 01\n",
    "==========="
   ]
  },
  {
   "cell_type": "code",
   "execution_count": 1,
   "metadata": {
    "collapsed": true,
    "run_control": {
     "frozen": false,
     "read_only": false
    }
   },
   "outputs": [],
   "source": [
    "import numpy\n",
    "from matplotlib import pyplot\n",
    "from matplotlib import colors\n",
    "% matplotlib inline"
   ]
  },
  {
   "cell_type": "code",
   "execution_count": 2,
   "metadata": {
    "collapsed": true
   },
   "outputs": [],
   "source": [
    "import os, sys\n",
    "sys.path.append(os.path.split(os.path.split(os.getcwd())[0])[0])"
   ]
  },
  {
   "cell_type": "code",
   "execution_count": 3,
   "metadata": {
    "collapsed": true
   },
   "outputs": [],
   "source": [
    "import utils.quadrature as quad\n",
    "import utils.elems.one_d as elem1d"
   ]
  },
  {
   "cell_type": "markdown",
   "metadata": {},
   "source": [
    "## (a)"
   ]
  },
  {
   "cell_type": "markdown",
   "metadata": {},
   "source": [
    "$$\n",
    "\\int_{-1}^{1} \\int_{-1}^{1} \\xi_{1}^{4} \\xi_{2}^{5} d\\xi_1 d\\xi_2 = \n",
    "\\left[\\frac{1}{5}\\xi_{1}^5\\right]_{-1}^{1}\n",
    "\\times\n",
    "\\left[\\frac{1}{6}\\xi_{2}^6\\right]_{-1}^{1} =\n",
    "0\n",
    "$$"
   ]
  },
  {
   "cell_type": "code",
   "execution_count": 4,
   "metadata": {
    "collapsed": true
   },
   "outputs": [],
   "source": [
    "def f1(x):\n",
    "    \"\"\"f1 = x^4\"\"\"\n",
    "    return numpy.power(x, 4)\n",
    "\n",
    "def f2(x):\n",
    "    \"\"\"fx = x^5\"\"\"\n",
    "    return numpy.power(x, 5)"
   ]
  },
  {
   "cell_type": "code",
   "execution_count": 5,
   "metadata": {
    "collapsed": false
   },
   "outputs": [
    {
     "name": "stdout",
     "output_type": "stream",
     "text": [
      "The exact solution is: 0.0\n",
      "The numerical results is: 0.0\n"
     ]
    }
   ],
   "source": [
    "Q = 7\n",
    "\n",
    "qd1 = quad.GaussLobattoJacobi(Q)\n",
    "qd2 = qd1  # warning: qd2 actually points to qd1\n",
    "\n",
    "print(\"The exact solution is: {0}\".format(0.))\n",
    "print(\"The numerical results is: {0}\".format(qd1(f1) * qd2(f2)))"
   ]
  },
  {
   "cell_type": "markdown",
   "metadata": {},
   "source": [
    "## (b)"
   ]
  },
  {
   "cell_type": "markdown",
   "metadata": {},
   "source": [
    "For quadrilateral tensorial expansion\n",
    "$\\phi_{pq}(\\xi_1, \\xi_2)=\\phi_p^a(\\xi_1)\\phi_q^a(\\xi_2)$, construct the mass matrix with the same order $P$ in both $\\xi_1$ and $\\xi_2$ directions\n",
    "$$\n",
    "M[i][j] = M[pq2i(p, q)][pg2i(r, s)] = \n",
    "\\int_{-1}^{1} \\int_{-1}^{1}\\phi_{pq}(\\xi_1, \\xi_2)\\phi_{rs}(\\xi_1, \\xi_2) d\\xi_1 d\\xi_2\n",
    "$$\n",
    "where the mapping function $pq2i(p, q) = i$ maps the tensorial representation $(p,\\ q)$ to the single-value index $i$.\n",
    "\n",
    "The above integral can be furthermore decomposed into\n",
    "$$\n",
    "\\int_{-1}^{1} \\int_{-1}^{1}\\phi_{pq}(\\xi_1, \\xi_2)\\phi_{rs}(\\xi_1, \\xi_2) d\\xi_1 d\\xi_2 = \\\\\n",
    "\\int_{-1}^{1} \\int_{-1}^{1}\\phi_p^a(\\xi_1)\\phi_q^a(\\xi_2)\\phi_r^a(\\xi_1)\\phi_s^a(\\xi_2) d\\xi_1 d\\xi_2 =\n",
    "\\int_{-1}^{1} \\phi_p^a(\\xi_1) \\phi_r^a(\\xi_1) d\\xi_1 \\times\n",
    "\\int_{-1}^{1} \\phi_q^a(\\xi_2) \\phi_s^a(\\xi_2) d\\xi_2\n",
    "$$\n",
    "\n",
    "Before we develop a 2D standard quadrilateral element in the **utils** package,\n",
    "we can here use standard 1D element in the **utils** package to handle the above calculation.\n",
    "That is to say,\n",
    "$$\n",
    "M[i][j] = M[pq2i(p, q)][pg2i(r, s)] = \\\\\n",
    "\\int_{-1}^{1} \\phi_p^a(\\xi_1) \\phi_r^a(\\xi_1) d\\xi_1 \\times\n",
    "\\int_{-1}^{1} \\phi_q^a(\\xi_2) \\phi_s^a(\\xi_2) d\\xi_2 =\n",
    "M_{1D}[p][r] \\times M_{1D}[q][s]\n",
    "$$"
   ]
  },
  {
   "cell_type": "markdown",
   "metadata": {},
   "source": [
    "We first investigate the sequential numbering of the mapping: $pq2i(p, q) = p \\times (P+1) + q$."
   ]
  },
  {
   "cell_type": "code",
   "execution_count": 6,
   "metadata": {
    "collapsed": true
   },
   "outputs": [],
   "source": [
    "def create_i2pq(P):\n",
    "    \"\"\"create sequential mapping of i2pg[i]=[p, q]\"\"\"\n",
    "    N = (P + 1)\n",
    "    N *= N\n",
    "    ans = numpy.zeros((N, 2), dtype=numpy.int)\n",
    "    for i in range(N):\n",
    "        ans[i] = [int(i/(P+1)), i%(P+1)]\n",
    "    return ans"
   ]
  },
  {
   "cell_type": "code",
   "execution_count": 7,
   "metadata": {
    "collapsed": true
   },
   "outputs": [],
   "source": [
    "def ex_b(P):\n",
    "    \"\"\"the wrapper for exercise (b)\"\"\"\n",
    "    N = (P + 1) * (P + 1)\n",
    "    i2pq = create_i2pq(P)\n",
    "    e = elem1d.CommonJacobiElem([-1, 1], P+1)\n",
    "    M = numpy.matrix(numpy.zeros((N, N), dtype=numpy.float64))\n",
    "    Mp = numpy.zeros_like(M, dtype=numpy.int)  # for plotting matrix structure\n",
    "    for i in range(N):\n",
    "        for j in range(N):\n",
    "            p, q = i2pq[i]\n",
    "            r, s = i2pq[j]\n",
    "            M[i, j] = e.M[p, r] * e.M[q, s]\n",
    "            if M[i, j] != 0:\n",
    "                Mp[i, j] = 1\n",
    "    return Mp"
   ]
  },
  {
   "cell_type": "code",
   "execution_count": 8,
   "metadata": {
    "collapsed": false
   },
   "outputs": [
    {
     "data": {
      "image/png": "[encoded data removed]",
      "text/plain": [
       "<matplotlib.figure.Figure at 0x7fb0b41947b8>"
      ]
     },
     "metadata": {},
     "output_type": "display_data"
    }
   ],
   "source": [
    "P = 7\n",
    "Mp = ex_b(P)\n",
    "pyplot.matshow(Mp, cmap=colors.ListedColormap(['white', 'black']));"
   ]
  },
  {
   "cell_type": "markdown",
   "metadata": {},
   "source": [
    "If we use decomposed numbering scheme, i.e., number the boundary modes first, the matrix will look like:"
   ]
  },
  {
   "cell_type": "code",
   "execution_count": 9,
   "metadata": {
    "collapsed": false
   },
   "outputs": [],
   "source": [
    "def create_i2pq(P):\n",
    "    \"\"\"create sequential mapping of i2pg[i]=[p, q]\"\"\"\n",
    "    N = (P + 1)\n",
    "    N *= N\n",
    "    ans = numpy.zeros((N, 2), dtype=numpy.int)\n",
    "    ans[0:4] = [[0, 0], [0, P], [P, 0], [P, P]]\n",
    "    ans[4:4+P-1] = [[i, 0] for i in range(1, P)]\n",
    "    ans[4+P-1:4+2*P-2] = [[i, P] for i in range(1, P)]\n",
    "    ans[4+2*P-2:4+3*P-3] = [[0, i] for i in range(1, P)]\n",
    "    ans[4+3*P-3:4+4*P-4] = [[P, i] for i in range(1, P)]\n",
    "    ans[4+4*P-4:] = [[i, j] for i in range(1, P) for j in range(1, P)]\n",
    "    return ans"
   ]
  },
  {
   "cell_type": "code",
   "execution_count": 10,
   "metadata": {
    "collapsed": false
   },
   "outputs": [
    {
     "data": {
      "image/png": "[encoded data removed]",
      "text/plain": [
       "<matplotlib.figure.Figure at 0x7fb0b4575da0>"
      ]
     },
     "metadata": {},
     "output_type": "display_data"
    }
   ],
   "source": [
    "Mp = ex_b(P)\n",
    "pyplot.matshow(Mp, cmap=colors.ListedColormap(['white', 'black']));"
   ]
  },
  {
   "cell_type": "markdown",
   "metadata": {},
   "source": [
    "To mimic the structure mass matrix of standard triangle (Fig. 3.18), we can delete the rows and columns involving the edges of $(\\overline{0,P)(P,P)}$. Then the matrix structure should be similar to the Fig. 3.18."
   ]
  },
  {
   "cell_type": "code",
   "execution_count": 11,
   "metadata": {
    "collapsed": false
   },
   "outputs": [
    {
     "data": {
      "image/png": "[encoded data removed]",
      "text/plain": [
       "<matplotlib.figure.Figure at 0x7fb0b4575358>"
      ]
     },
     "metadata": {},
     "output_type": "display_data"
    }
   ],
   "source": [
    "Mp = numpy.delete(Mp, numpy.s_[4+P-1:4+2*P-2], 0)\n",
    "Mp = numpy.delete(Mp, numpy.s_[4+P-1:4+2*P-2], 1)\n",
    "pyplot.matshow(Mp, cmap=colors.ListedColormap(['white', 'black']));"
   ]
  },
  {
   "cell_type": "markdown",
   "metadata": {},
   "source": [
    "## (c)"
   ]
  },
  {
   "cell_type": "markdown",
   "metadata": {},
   "source": [
    "The same as the exercise (c) except that now use pure Legendre polynomial expansion, instead of p-type expansion. That is to say, $\\phi_p^a(\\xi)=\\tilde{\\psi_p^a}(\\xi)=L_{p}^{0,0}(\\xi)$"
   ]
  },
  {
   "cell_type": "code",
   "execution_count": 12,
   "metadata": {
    "collapsed": true
   },
   "outputs": [],
   "source": [
    "def ex_c(P):\n",
    "    \"\"\"the wrapper for exercise (b)\"\"\"\n",
    "    N = (P + 1) * (P + 1)\n",
    "    i2pq = create_i2pq(P)\n",
    "    e = elem1d.PureLegendreElem([-1, 1], P+1)\n",
    "    M = numpy.matrix(numpy.zeros((N, N), dtype=numpy.float64))\n",
    "    Mp = numpy.zeros_like(M, dtype=numpy.int)  # for plotting matrix structure\n",
    "    for i in range(N):\n",
    "        for j in range(N):\n",
    "            p, q = i2pq[i]\n",
    "            r, s = i2pq[j]\n",
    "            M[i, j] = e.M[p, r] * e.M[q, s]\n",
    "            if M[i, j] != 0:\n",
    "                Mp[i, j] = 1\n",
    "    return Mp"
   ]
  },
  {
   "cell_type": "markdown",
   "metadata": {},
   "source": [
    "First, the sequential numbering:"
   ]
  },
  {
   "cell_type": "code",
   "execution_count": 13,
   "metadata": {
    "collapsed": true
   },
   "outputs": [],
   "source": [
    "def create_i2pq(P):\n",
    "    \"\"\"create sequential mapping of i2pg[i]=[p, q]\"\"\"\n",
    "    N = (P + 1)\n",
    "    N *= N\n",
    "    ans = numpy.zeros((N, 2), dtype=numpy.int)\n",
    "    for i in range(N):\n",
    "        ans[i] = [int(i/(P+1)), i%(P+1)]\n",
    "    return ans"
   ]
  },
  {
   "cell_type": "code",
   "execution_count": 14,
   "metadata": {
    "collapsed": false
   },
   "outputs": [
    {
     "data": {
      "image/png": "[encoded data removed]",
      "text/plain": [
       "<matplotlib.figure.Figure at 0x7fb0b455c7b8>"
      ]
     },
     "metadata": {},
     "output_type": "display_data"
    }
   ],
   "source": [
    "P = 7\n",
    "Mp = ex_c(P)\n",
    "pyplot.matshow(Mp, cmap=colors.ListedColormap(['white', 'black']));"
   ]
  },
  {
   "cell_type": "markdown",
   "metadata": {},
   "source": [
    "Next, the decomposed numbering:"
   ]
  },
  {
   "cell_type": "code",
   "execution_count": 15,
   "metadata": {
    "collapsed": false
   },
   "outputs": [],
   "source": [
    "def create_i2pq(P):\n",
    "    \"\"\"create sequential mapping of i2pg[i]=[p, q]\"\"\"\n",
    "    N = (P + 1)\n",
    "    N *= N\n",
    "    ans = numpy.zeros((N, 2), dtype=numpy.int)\n",
    "    ans[0:4] = [[0, 0], [0, P], [P, 0], [P, P]]\n",
    "    ans[4:4+P-1] = [[i, 0] for i in range(1, P)]\n",
    "    ans[4+P-1:4+2*P-2] = [[i, P] for i in range(1, P)]\n",
    "    ans[4+2*P-2:4+3*P-3] = [[0, i] for i in range(1, P)]\n",
    "    ans[4+3*P-3:4+4*P-4] = [[P, i] for i in range(1, P)]\n",
    "    ans[4+4*P-4:] = [[i, j] for i in range(1, P) for j in range(1, P)]\n",
    "    return ans"
   ]
  },
  {
   "cell_type": "code",
   "execution_count": 16,
   "metadata": {
    "collapsed": false
   },
   "outputs": [
    {
     "data": {
      "image/png": "[encoded data removed]",
      "text/plain": [
       "<matplotlib.figure.Figure at 0x7fb0b3a30898>"
      ]
     },
     "metadata": {},
     "output_type": "display_data"
    }
   ],
   "source": [
    "P = 7\n",
    "Mp = ex_c(P)\n",
    "pyplot.matshow(Mp, cmap=colors.ListedColormap(['white', 'black']));"
   ]
  },
  {
   "cell_type": "markdown",
   "metadata": {},
   "source": [
    "## (d)"
   ]
  },
  {
   "cell_type": "markdown",
   "metadata": {},
   "source": [
    "Nodal expansions are not in my interest, so I currently skip this part."
   ]
  }
 ],
 "metadata": {
  "anaconda-cloud": {},
  "kernelspec": {
   "display_name": "Python [default]",
   "language": "python",
   "name": "python3"
  },
  "language_info": {
   "codemirror_mode": {
    "name": "ipython",
    "version": 3
   },
   "file_extension": ".py",
   "mimetype": "text/x-python",
   "name": "python",
   "nbconvert_exporter": "python",
   "pygments_lexer": "ipython3",
   "version": "3.5.2"
  }
 },
 "nbformat": 4,
 "nbformat_minor": 1
}
