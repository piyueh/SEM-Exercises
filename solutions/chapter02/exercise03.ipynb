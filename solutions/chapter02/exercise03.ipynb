{
 "cells": [
  {
   "cell_type": "markdown",
   "metadata": {},
   "source": [
    "\n",
    "=========="
   ]
  },
  {
   "cell_type": "code",
   "execution_count": 1,
   "metadata": {
    "collapsed": true,
    "run_control": {
     "frozen": false,
     "read_only": false
    }
   },
   "outputs": [],
   "source": [
    "import numpy\n",
    "import re\n",
    "from matplotlib import pyplot\n",
    "from matplotlib import colors\n",
    "from IPython.display import Latex, Math, display\n",
    "% matplotlib inline"
   ]
  },
  {
   "cell_type": "code",
   "execution_count": 2,
   "metadata": {
    "collapsed": false,
    "run_control": {
     "frozen": false,
     "read_only": false
    }
   },
   "outputs": [],
   "source": [
    "import os, sys\n",
    "sys.path.append(os.path.split(os.path.split(os.getcwd())[0])[0])"
   ]
  },
  {
   "cell_type": "code",
   "execution_count": 3,
   "metadata": {
    "collapsed": true
   },
   "outputs": [],
   "source": [
    "import utils.poly as poly\n",
    "import utils.quadrature as quad\n",
    "import utils.elems.one_d as elem"
   ]
  },
  {
   "cell_type": "code",
   "execution_count": 4,
   "metadata": {
    "collapsed": false
   },
   "outputs": [
    {
     "data": {
      "image/png": "[encoded data removed]",
      "text/plain": [
       "<matplotlib.figure.Figure at 0x7fe5a4410e10>"
      ]
     },
     "metadata": {},
     "output_type": "display_data"
    }
   ],
   "source": [
    "e1 = elem.CommonJacobiElem([-1, 1], 9)\n",
    "M = numpy.where(e1.M != 0, 1, 0)\n",
    "pyplot.matshow(M, cmap=colors.ListedColormap(['white', 'black']));"
   ]
  },
  {
   "cell_type": "code",
   "execution_count": 5,
   "metadata": {
    "collapsed": false
   },
   "outputs": [
    {
     "data": {
      "image/png": "[encoded data removed]",
      "text/plain": [
       "<matplotlib.figure.Figure at 0x7fe5a387cc88>"
      ]
     },
     "metadata": {},
     "output_type": "display_data"
    }
   ],
   "source": [
    "e2 = elem.GaussLobattoJacobiElem([-1, 1], 9)\n",
    "M = numpy.where(e2.M != 0, 1, 0)\n",
    "pyplot.matshow(M, cmap=colors.ListedColormap(['white', 'black']));"
   ]
  },
  {
   "cell_type": "code",
   "execution_count": 6,
   "metadata": {
    "collapsed": false
   },
   "outputs": [],
   "source": [
    "qd = quad.GaussLobattoJacobi(10)\n",
    "f = poly.Polynomial(roots=[0, 0, 0, 0, 0, 0, 0])\n",
    "fi1 = numpy.array([qd(e1.expn[i] * f) for i in range(9)])\n",
    "ui1 = numpy.linalg.solve(e1.M, fi1)\n",
    "fi2 = numpy.array([qd(e2.expn[i] * f) for i in range(9)])\n",
    "ui2 = numpy.linalg.solve(e2.M, fi2)"
   ]
  },
  {
   "cell_type": "code",
   "execution_count": 7,
   "metadata": {
    "code_folding": [
     0
    ],
    "collapsed": true
   },
   "outputs": [],
   "source": [
    "def u(x, expn, Ui):\n",
    "    \"\"\"return the result of approximations\"\"\"\n",
    "    \n",
    "    ans = numpy.array([ui * expn[i](x) for i, ui in enumerate(Ui)])\n",
    "    \n",
    "    return ans.sum(axis=0)"
   ]
  },
  {
   "cell_type": "code",
   "execution_count": 8,
   "metadata": {
    "collapsed": false
   },
   "outputs": [
    {
     "name": "stdout",
     "output_type": "stream",
     "text": [
      "6.90490415032e-14\n",
      "9.0682828041e-14\n"
     ]
    }
   ],
   "source": [
    "x = numpy.linspace(-1, 1, 100)\n",
    "\n",
    "err1 = numpy.abs(u(x, e1.expn, ui1) - f(x))\n",
    "err2 = numpy.abs(u(x, e2.expn, ui2) - f(x))\n",
    "\n",
    "l2norm1 = numpy.linalg.norm(err1, 2)\n",
    "l2norm2 = numpy.linalg.norm(err2, 2)\n",
    "\n",
    "print(l2norm1)\n",
    "print(l2norm2)"
   ]
  },
  {
   "cell_type": "markdown",
   "metadata": {},
   "source": []
  },
  {
   "cell_type": "code",
   "execution_count": 9,
   "metadata": {
    "collapsed": false
   },
   "outputs": [],
   "source": [
    "ui1 = numpy.zeros(9, dtype=numpy.float64)\n",
    "ui2 = numpy.zeros(9, dtype=numpy.float64)\n",
    "ui1[0] = ui2[0] = f(-1.)\n",
    "ui1[-1] = ui2[-1] = f(1.)\n",
    "\n",
    "fi1 = numpy.array([qd(e1.expn[i] * f) for i in range(1, 8)]) - \\\n",
    "    numpy.array(e1.M[1:-1, 0] * ui1[0] + e1.M[1:-1, -1] * ui1[-1]).flatten()\n",
    "ui1[1:-1] = numpy.linalg.solve(e1.M[1:-1, 1:-1], fi1)\n",
    "fi2 = numpy.array([qd(e2.expn[i] * f) for i in range(1, 8)]) - \\\n",
    "    numpy.array(e2.M[1:-1, 0] * ui2[0] + e2.M[1:-1, -1] * ui2[-1]).flatten()\n",
    "ui2[1:-1] = numpy.linalg.solve(e2.M[1:-1, 1:-1], fi2)"
   ]
  },
  {
   "cell_type": "code",
   "execution_count": 10,
   "metadata": {
    "collapsed": false
   },
   "outputs": [
    {
     "name": "stdout",
     "output_type": "stream",
     "text": [
      "6.11824466078e-14\n",
      "8.70148771231e-14\n"
     ]
    }
   ],
   "source": [
    "x = numpy.linspace(-1, 1, 100)\n",
    "\n",
    "err1 = numpy.abs(u(x, e1.expn, ui1) - f(x))\n",
    "err2 = numpy.abs(u(x, e2.expn, ui2) - f(x))\n",
    "\n",
    "l2norm1 = numpy.linalg.norm(err1, 2)\n",
    "l2norm2 = numpy.linalg.norm(err2, 2)\n",
    "\n",
    "print(l2norm1)\n",
    "print(l2norm2)"
   ]
  },
  {
   "cell_type": "markdown",
   "metadata": {},
   "source": []
  },
  {
   "cell_type": "code",
   "execution_count": 12,
   "metadata": {
    "collapsed": false
   },
   "outputs": [],
   "source": [
    "xmin = 2.\n",
    "xMax = 5.\n",
    "\n",
    "def X(xi):\n",
    "    \"\"\"mapping from xi to x\"\"\"\n",
    "    \n",
    "    return (xi + 1) * (xMax - xmin) / 2. + xmin\n",
    "\n",
    "def Xi(x):\n",
    "    \"\"\"mapping from x to xi\"\"\"\n",
    "    \n",
    "    return 2. * (x - xmin) / (xMax - xmin) - 1\n",
    "\n",
    "dx_dxi = (xMax - xmin) / 2.\n",
    "dxi_dx = 2. / (xMax - xmin)\n",
    "qd = quad.GaussLobattoJacobi(10)\n",
    "\n",
    "ui1 = numpy.zeros(9, dtype=numpy.float64)\n",
    "ui2 = numpy.zeros(9, dtype=numpy.float64)\n",
    "ui1[0] = ui2[0] = f(xmin)\n",
    "ui1[-1] = ui2[-1] = f(xMax)\n",
    "\n",
    "fi1 = numpy.array([e1.expn[i](qd.nodes) * f(X(qd.nodes)) * qd.weights\n",
    "                   for i in range(1, 8)]).sum(axis=1) - \\\n",
    "    numpy.array(e1.M[1:-1, 0] * ui1[0] + e1.M[1:-1, -1] * ui1[-1]).flatten()\n",
    "ui1[1:-1] = numpy.linalg.solve(e1.M[1:-1, 1:-1], fi1)\n",
    "fi2 = numpy.array([e2.expn[i](qd.nodes) * f(X(qd.nodes)) * qd.weights\n",
    "                   for i in range(1, 8)]).sum(axis=1) - \\\n",
    "    numpy.array(e2.M[1:-1, 0] * ui2[0] + e2.M[1:-1, -1] * ui2[-1]).flatten()\n",
    "ui2[1:-1] = numpy.linalg.solve(e2.M[1:-1, 1:-1], fi2)"
   ]
  },
  {
   "cell_type": "code",
   "execution_count": 13,
   "metadata": {
    "collapsed": false
   },
   "outputs": [
    {
     "name": "stdout",
     "output_type": "stream",
     "text": [
      "4.64014569871e-09\n",
      "4.30752771777e-09\n"
     ]
    }
   ],
   "source": [
    "xi = numpy.linspace(-1, 1, 100)\n",
    "\n",
    "err1 = numpy.abs(u(xi, e1.expn, ui1) - f(X(xi)))\n",
    "err2 = numpy.abs(u(xi, e2.expn, ui2) - f(X(xi)))\n",
    "\n",
    "l2norm1 = numpy.linalg.norm(err1, 2)\n",
    "l2norm2 = numpy.linalg.norm(err2, 2)\n",
    "\n",
    "print(l2norm1)\n",
    "print(l2norm2)"
   ]
  }
 ],
 "metadata": {
  "anaconda-cloud": {},
  "kernelspec": {
   "display_name": "Python [conda root]",
   "language": "python",
   "name": "conda-root-py"
  },
  "language_info": {
   "codemirror_mode": {
    "name": "ipython",
    "version": 3
   },
   "file_extension": ".py",
   "mimetype": "text/x-python",
   "name": "python",
   "nbconvert_exporter": "python",
   "pygments_lexer": "ipython3",
   "version": "3.5.2"
  },
  "nav_menu": {},
  "toc": {
   "navigate_menu": true,
   "number_sections": true,
   "sideBar": true,
   "threshold": 6,
   "toc_cell": false,
   "toc_section_display": "block",
   "toc_window_display": false
  }
 },
 "nbformat": 4,
 "nbformat_minor": 1
}
