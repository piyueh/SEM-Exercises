{
 "cells": [
  {
   "cell_type": "markdown",
   "metadata": {},
   "source": [
    "Exercise 2\n",
    "=========="
   ]
  },
  {
   "cell_type": "code",
   "execution_count": 1,
   "metadata": {
    "collapsed": true,
    "run_control": {
     "frozen": false,
     "read_only": false
    }
   },
   "outputs": [],
   "source": [
    "import numpy\n",
    "import re\n",
    "from matplotlib import pyplot\n",
    "from IPython.display import Latex, Math, display\n",
    "% matplotlib inline"
   ]
  },
  {
   "cell_type": "code",
   "execution_count": 2,
   "metadata": {
    "collapsed": false,
    "run_control": {
     "frozen": false,
     "read_only": false
    }
   },
   "outputs": [],
   "source": [
    "import os, sys\n",
    "sys.path.append(os.path.split(os.path.split(os.getcwd())[0])[0])"
   ]
  },
  {
   "cell_type": "code",
   "execution_count": 3,
   "metadata": {
    "collapsed": true,
    "run_control": {
     "frozen": false,
     "read_only": false
    }
   },
   "outputs": [],
   "source": [
    "import utils.quadrature as quad\n",
    "import utils.poly as poly"
   ]
  },
  {
   "cell_type": "markdown",
   "metadata": {},
   "source": [
    "## (a)"
   ]
  },
  {
   "cell_type": "markdown",
   "metadata": {},
   "source": [
    "Let $f(x)=x^7$. Evaluate the derivative matrix and the derivatives at quadrature points using Gauss-Lobatto-Legendre quadrature with $Q=7,\\ 8,\\ 9$."
   ]
  },
  {
   "cell_type": "code",
   "execution_count": 4,
   "metadata": {
    "collapsed": true
   },
   "outputs": [],
   "source": [
    "def f_ex2a(x):\n",
    "    \"\"\"f = x^7\"\"\"\n",
    "    \n",
    "    return x**7\n",
    "\n",
    "def df_ex2a(x):\n",
    "    \"\"\"df/dx = 7 * (x**6)\"\"\"\n",
    "    \n",
    "    return 7 * (x**6)"
   ]
  },
  {
   "cell_type": "code",
   "execution_count": 5,
   "metadata": {
    "collapsed": false
   },
   "outputs": [],
   "source": [
    "def ex2a(Qi, f, df):\n",
    "    \"\"\"a wrapper for generating solutions\"\"\"\n",
    "    \n",
    "    numpy.set_printoptions(\n",
    "        formatter={'float': \"{:5.2e}\".format}, linewidth=120)\n",
    "    \n",
    "    qd = quad.GaussLobattoJacobi(Qi)\n",
    "    p = poly.LagrangeBasis(qd.nodes)\n",
    "    D = p.derivative(qd.nodes)\n",
    "    ans = D.dot(f(qd.nodes))\n",
    "    exact = df(qd.nodes)\n",
    "    err = numpy.abs(ans - exact)\n",
    "    \n",
    "    def generateLatex(A):\n",
    "        return \"{\\\\scriptsize \\\\left[\\\\begin{array}{r}\" + \\\n",
    "                re.sub(r\"[ ]+\", \"&\", re.sub(r\"\\n[ ]*\", \"\\\\\\\\\\\\\\\\\", \n",
    "                re.sub(r\"\\][ ]*\", \"\", re.sub(r\"\\[[ ]*\", \"\", str(A))))) + \\\n",
    "               \"\\\\end{array}\\\\right]}\"\n",
    "            \n",
    "    display(Latex(\"For \" + \"$Q={0}$\".format(Qi) + \":\"))\n",
    "    display(Latex(\"$\\qquad$The derivative matrix is: \"))\n",
    "    display(Math(\"\\\\qquad\" + generateLatex(D)))\n",
    "    display(Latex(\"$\\\\qquad$The derivatives at quadrature points are: \"))\n",
    "    display(Math(\"\\\\qquad\" + generateLatex(ans)))\n",
    "    display(Latex(\"$\\\\qquad$The exact derivatives at quadrature points are: \"))\n",
    "    display(Math(\"\\\\qquad\" + generateLatex(exact)))\n",
    "    display(Latex(\"$\\\\qquad$The absolute errors are: \"))\n",
    "    display(Math(\"\\\\qquad\" + generateLatex(err)))"
   ]
  },
  {
   "cell_type": "code",
   "execution_count": 6,
   "metadata": {
    "collapsed": false
   },
   "outputs": [
    {
     "data": {
      "text/latex": [
       "For $Q=7$:"
      ],
      "text/plain": [
       "<IPython.core.display.Latex object>"
      ]
     },
     "metadata": {},
     "output_type": "display_data"
    },
    {
     "data": {
      "text/latex": [
       "$\\qquad$The derivative matrix is: "
      ],
      "text/plain": [
       "<IPython.core.display.Latex object>"
      ]
     },
     "metadata": {},
     "output_type": "display_data"
    },
    {
     "data": {
      "text/latex": [
       "$$\\qquad{\\scriptsize \\left[\\begin{array}{r}-1.05e+01&1.42e+01&-5.67e+00&3.20e+00&-2.05e+00&1.32e+00&-5.00e-01\\\\-2.44e+00&-7.33e-15&3.46e+00&-1.60e+00&9.61e-01&-6.02e-01&2.27e-01\\\\6.25e-01&-2.22e+00&1.29e-15&2.27e+00&-1.07e+00&6.16e-01&-2.26e-01\\\\-3.12e-01&9.08e-01&-2.01e+00&-0.00e+00&2.01e+00&-9.08e-01&3.12e-01\\\\2.26e-01&-6.16e-01&1.07e+00&-2.27e+00&-1.29e-15&2.22e+00&-6.25e-01\\\\-2.27e-01&6.02e-01&-9.61e-01&1.60e+00&-3.46e+00&7.33e-15&2.44e+00\\\\5.00e-01&-1.32e+00&2.05e+00&-3.20e+00&5.67e+00&-1.42e+01&1.05e+01\\end{array}\\right]}$$"
      ],
      "text/plain": [
       "<IPython.core.display.Math object>"
      ]
     },
     "metadata": {},
     "output_type": "display_data"
    },
    {
     "data": {
      "text/latex": [
       "$\\qquad$The derivatives at quadrature points are: "
      ],
      "text/plain": [
       "<IPython.core.display.Latex object>"
      ]
     },
     "metadata": {},
     "output_type": "display_data"
    },
    {
     "data": {
      "text/latex": [
       "$$\\qquad{\\scriptsize \\left[\\begin{array}{r}6.52e+00&2.49e+00&-8.67e-02&1.52e-01&-8.67e-02&2.49e+00&6.52e+00\\end{array}\\right]}$$"
      ],
      "text/plain": [
       "<IPython.core.display.Math object>"
      ]
     },
     "metadata": {},
     "output_type": "display_data"
    },
    {
     "data": {
      "text/latex": [
       "$\\qquad$The exact derivatives at quadrature points are: "
      ],
      "text/plain": [
       "<IPython.core.display.Latex object>"
      ]
     },
     "metadata": {},
     "output_type": "display_data"
    },
    {
     "data": {
      "text/latex": [
       "$$\\qquad{\\scriptsize \\left[\\begin{array}{r}7.00e+00&2.29e+00&7.44e-02&0.00e+00&7.44e-02&2.29e+00&7.00e+00\\end{array}\\right]}$$"
      ],
      "text/plain": [
       "<IPython.core.display.Math object>"
      ]
     },
     "metadata": {},
     "output_type": "display_data"
    },
    {
     "data": {
      "text/latex": [
       "$\\qquad$The absolute errors are: "
      ],
      "text/plain": [
       "<IPython.core.display.Latex object>"
      ]
     },
     "metadata": {},
     "output_type": "display_data"
    },
    {
     "data": {
      "text/latex": [
       "$$\\qquad{\\scriptsize \\left[\\begin{array}{r}4.85e-01&2.01e-01&1.61e-01&1.52e-01&1.61e-01&2.01e-01&4.85e-01\\end{array}\\right]}$$"
      ],
      "text/plain": [
       "<IPython.core.display.Math object>"
      ]
     },
     "metadata": {},
     "output_type": "display_data"
    },
    {
     "data": {
      "text/latex": [
       "For $Q=8$:"
      ],
      "text/plain": [
       "<IPython.core.display.Latex object>"
      ]
     },
     "metadata": {},
     "output_type": "display_data"
    },
    {
     "data": {
      "text/latex": [
       "$\\qquad$The derivative matrix is: "
      ],
      "text/plain": [
       "<IPython.core.display.Latex object>"
      ]
     },
     "metadata": {},
     "output_type": "display_data"
    },
    {
     "data": {
      "text/latex": [
       "$$\\qquad{\\scriptsize \\left[\\begin{array}{r}-1.40e+01&1.89e+01&-7.57e+00&4.30e+00&-2.81e+00&1.94e+00&-1.30e+00&5.00e-01\\\\-3.21e+00&-6.10e-14&4.54e+00&-2.11e+00&1.29e+00&-8.69e-01&5.74e-01&-2.20e-01\\\\7.92e-01&-2.81e+00&2.01e-14&2.88e+00&-1.37e+00&8.45e-01&-5.37e-01&2.03e-01\\\\-3.72e-01&1.08e+00&-2.38e+00&-6.32e-16&2.39e+00&-1.14e+00&6.61e-01&-2.43e-01\\\\2.43e-01&-6.61e-01&1.14e+00&-2.39e+00&6.32e-16&2.38e+00&-1.08e+00&3.72e-01\\\\-2.03e-01&5.37e-01&-8.45e-01&1.37e+00&-2.88e+00&-2.01e-14&2.81e+00&-7.92e-01\\\\2.20e-01&-5.74e-01&8.69e-01&-1.29e+00&2.11e+00&-4.54e+00&6.10e-14&3.21e+00\\\\-5.00e-01&1.30e+00&-1.94e+00&2.81e+00&-4.30e+00&7.57e+00&-1.89e+01&1.40e+01\\end{array}\\right]}$$"
      ],
      "text/plain": [
       "<IPython.core.display.Math object>"
      ]
     },
     "metadata": {},
     "output_type": "display_data"
    },
    {
     "data": {
      "text/latex": [
       "$\\qquad$The derivatives at quadrature points are: "
      ],
      "text/plain": [
       "<IPython.core.display.Latex object>"
      ]
     },
     "metadata": {},
     "output_type": "display_data"
    },
    {
     "data": {
      "text/latex": [
       "$$\\qquad{\\scriptsize \\left[\\begin{array}{r}7.00e+00&3.07e+00&3.00e-01&5.88e-04&5.88e-04&3.00e-01&3.07e+00&7.00e+00\\end{array}\\right]}$$"
      ],
      "text/plain": [
       "<IPython.core.display.Math object>"
      ]
     },
     "metadata": {},
     "output_type": "display_data"
    },
    {
     "data": {
      "text/latex": [
       "$\\qquad$The exact derivatives at quadrature points are: "
      ],
      "text/plain": [
       "<IPython.core.display.Latex object>"
      ]
     },
     "metadata": {},
     "output_type": "display_data"
    },
    {
     "data": {
      "text/latex": [
       "$$\\qquad{\\scriptsize \\left[\\begin{array}{r}7.00e+00&3.07e+00&3.00e-01&5.88e-04&5.88e-04&3.00e-01&3.07e+00&7.00e+00\\end{array}\\right]}$$"
      ],
      "text/plain": [
       "<IPython.core.display.Math object>"
      ]
     },
     "metadata": {},
     "output_type": "display_data"
    },
    {
     "data": {
      "text/latex": [
       "$\\qquad$The absolute errors are: "
      ],
      "text/plain": [
       "<IPython.core.display.Latex object>"
      ]
     },
     "metadata": {},
     "output_type": "display_data"
    },
    {
     "data": {
      "text/latex": [
       "$$\\qquad{\\scriptsize \\left[\\begin{array}{r}3.04e-13&8.84e-14&1.92e-14&3.41e-15&3.41e-15&1.92e-14&8.79e-14&3.04e-13\\end{array}\\right]}$$"
      ],
      "text/plain": [
       "<IPython.core.display.Math object>"
      ]
     },
     "metadata": {},
     "output_type": "display_data"
    },
    {
     "data": {
      "text/latex": [
       "For $Q=9$:"
      ],
      "text/plain": [
       "<IPython.core.display.Latex object>"
      ]
     },
     "metadata": {},
     "output_type": "display_data"
    },
    {
     "data": {
      "text/latex": [
       "$\\qquad$The derivative matrix is: "
      ],
      "text/plain": [
       "<IPython.core.display.Latex object>"
      ]
     },
     "metadata": {},
     "output_type": "display_data"
    },
    {
     "data": {
      "text/latex": [
       "$$\\qquad{\\scriptsize \\left[\\begin{array}{r}-1.80e+01&2.43e+01&-9.74e+00&5.54e+00&-3.66e+00&2.59e+00&-1.87e+00&1.28e+00&-5.00e-01\\\\-4.09e+00&-1.93e-13&5.79e+00&-2.70e+00&1.67e+00&-1.15e+00&8.17e-01&-5.56e-01&2.16e-01\\\\9.85e-01&-3.49e+00&6.87e-14&3.58e+00&-1.72e+00&1.08e+00&-7.38e-01&4.92e-01&-1.90e-01\\\\-4.45e-01&1.29e+00&-2.83e+00&-1.43e-14&2.85e+00&-1.38e+00&8.56e-01&-5.47e-01&2.08e-01\\\\2.73e-01&-7.42e-01&1.27e+00&-2.66e+00&0.00e+00&2.66e+00&-1.27e+00&7.42e-01&-2.73e-01\\\\-2.08e-01&5.47e-01&-8.56e-01&1.38e+00&-2.85e+00&1.43e-14&2.83e+00&-1.29e+00&4.45e-01\\\\1.90e-01&-4.92e-01&7.38e-01&-1.08e+00&1.72e+00&-3.58e+00&-4.75e-14&3.49e+00&-9.85e-01\\\\-2.16e-01&5.56e-01&-8.17e-01&1.15e+00&-1.67e+00&2.70e+00&-5.79e+00&5.99e-14&4.09e+00\\\\5.00e-01&-1.28e+00&1.87e+00&-2.59e+00&3.66e+00&-5.54e+00&9.74e+00&-2.43e+01&1.80e+01\\end{array}\\right]}$$"
      ],
      "text/plain": [
       "<IPython.core.display.Math object>"
      ]
     },
     "metadata": {},
     "output_type": "display_data"
    },
    {
     "data": {
      "text/latex": [
       "$\\qquad$The derivatives at quadrature points are: "
      ],
      "text/plain": [
       "<IPython.core.display.Latex object>"
      ]
     },
     "metadata": {},
     "output_type": "display_data"
    },
    {
     "data": {
      "text/latex": [
       "$$\\qquad{\\scriptsize \\left[\\begin{array}{r}7.00e+00&3.71e+00&6.75e-01&1.60e-02&-7.52e-14&1.60e-02&6.75e-01&3.71e+00&7.00e+00\\end{array}\\right]}$$"
      ],
      "text/plain": [
       "<IPython.core.display.Math object>"
      ]
     },
     "metadata": {},
     "output_type": "display_data"
    },
    {
     "data": {
      "text/latex": [
       "$\\qquad$The exact derivatives at quadrature points are: "
      ],
      "text/plain": [
       "<IPython.core.display.Latex object>"
      ]
     },
     "metadata": {},
     "output_type": "display_data"
    },
    {
     "data": {
      "text/latex": [
       "$$\\qquad{\\scriptsize \\left[\\begin{array}{r}7.00e+00&3.71e+00&6.75e-01&1.60e-02&0.00e+00&1.60e-02&6.75e-01&3.71e+00&7.00e+00\\end{array}\\right]}$$"
      ],
      "text/plain": [
       "<IPython.core.display.Math object>"
      ]
     },
     "metadata": {},
     "output_type": "display_data"
    },
    {
     "data": {
      "text/latex": [
       "$\\qquad$The absolute errors are: "
      ],
      "text/plain": [
       "<IPython.core.display.Latex object>"
      ]
     },
     "metadata": {},
     "output_type": "display_data"
    },
    {
     "data": {
      "text/latex": [
       "$$\\qquad{\\scriptsize \\left[\\begin{array}{r}2.01e-12&5.80e-13&2.05e-13&9.42e-14&7.52e-14&9.10e-14&1.92e-13&5.12e-13&1.81e-12\\end{array}\\right]}$$"
      ],
      "text/plain": [
       "<IPython.core.display.Math object>"
      ]
     },
     "metadata": {},
     "output_type": "display_data"
    }
   ],
   "source": [
    "for Qi in [7, 8, 9]:\n",
    "    ex2a(Qi, f_ex2a, df_ex2a)"
   ]
  },
  {
   "cell_type": "markdown",
   "metadata": {},
   "source": [
    "## (b)"
   ]
  },
  {
   "cell_type": "markdown",
   "metadata": {},
   "source": [
    "The same problem with exercise 2a, except that now the interval on which we apply quadrature is $x \\in [2,\\ 10]$. Use chain rule to evaluate the derivative at mapped quadrature points."
   ]
  },
  {
   "cell_type": "code",
   "execution_count": 7,
   "metadata": {
    "collapsed": true
   },
   "outputs": [],
   "source": [
    "def ex2b(Qi, f, df):\n",
    "    \"\"\"a wrapper for generating solutions\"\"\"\n",
    "    \n",
    "    numpy.set_printoptions(\n",
    "        formatter={'float': \"{:5.2e}\".format}, linewidth=120)\n",
    "    \n",
    "    x = lambda xi: (xi + 1) * (10 - 2) / 2. + 2\n",
    "    dxi_dx = 2. / (10 - 2)\n",
    "    qd = quad.GaussLobattoJacobi(Qi)\n",
    "    p = poly.LagrangeBasis(qd.nodes)\n",
    "    D = p.derivative(qd.nodes)\n",
    "    ans = D.dot(f(x(qd.nodes))) * dxi_dx\n",
    "    exact = df(x(qd.nodes))\n",
    "    err = numpy.abs(ans - exact)\n",
    "    \n",
    "    def generateLatex(A):\n",
    "        return \"{\\\\scriptsize \\\\left[\\\\begin{array}{r}\" + \\\n",
    "                re.sub(r\"[ ]+\", \"&\", re.sub(r\"\\n[ ]*\", \"\\\\\\\\\\\\\\\\\", \n",
    "                re.sub(r\"\\][ ]*\", \"\", re.sub(r\"\\[[ ]*\", \"\", str(A))))) + \\\n",
    "               \"\\\\end{array}\\\\right]}\"\n",
    "            \n",
    "    display(Latex(\"For \" + \"$Q={0}$\".format(Qi) + \":\"))\n",
    "    display(Latex(\"$\\\\qquad$The derivatives at quadrature points are: \"))\n",
    "    display(Math(\"\\\\qquad\" + generateLatex(ans)))\n",
    "    display(Latex(\"$\\\\qquad$The exact derivatives at quadrature points are: \"))\n",
    "    display(Math(\"\\\\qquad\" + generateLatex(exact)))\n",
    "    display(Latex(\"$\\\\qquad$The absolute errors are: \"))\n",
    "    display(Math(\"\\\\qquad\" + generateLatex(err)))"
   ]
  },
  {
   "cell_type": "code",
   "execution_count": 8,
   "metadata": {
    "collapsed": false
   },
   "outputs": [
    {
     "data": {
      "text/latex": [
       "For $Q=7$:"
      ],
      "text/plain": [
       "<IPython.core.display.Latex object>"
      ]
     },
     "metadata": {},
     "output_type": "display_data"
    },
    {
     "data": {
      "text/latex": [
       "$\\qquad$The derivatives at quadrature points are: "
      ],
      "text/plain": [
       "<IPython.core.display.Latex object>"
      ]
     },
     "metadata": {},
     "output_type": "display_data"
    },
    {
     "data": {
      "text/latex": [
       "$$\\qquad{\\scriptsize \\left[\\begin{array}{r}-1.54e+03&3.41e+03&3.38e+04&3.27e+05&1.67e+06&4.59e+06&7.00e+06\\end{array}\\right]}$$"
      ],
      "text/plain": [
       "<IPython.core.display.Math object>"
      ]
     },
     "metadata": {},
     "output_type": "display_data"
    },
    {
     "data": {
      "text/latex": [
       "$\\qquad$The exact derivatives at quadrature points are: "
      ],
      "text/plain": [
       "<IPython.core.display.Latex object>"
      ]
     },
     "metadata": {},
     "output_type": "display_data"
    },
    {
     "data": {
      "text/latex": [
       "$$\\qquad{\\scriptsize \\left[\\begin{array}{r}4.48e+02&2.59e+03&3.45e+04&3.27e+05&1.67e+06&4.59e+06&7.00e+06\\end{array}\\right]}$$"
      ],
      "text/plain": [
       "<IPython.core.display.Math object>"
      ]
     },
     "metadata": {},
     "output_type": "display_data"
    },
    {
     "data": {
      "text/latex": [
       "$\\qquad$The absolute errors are: "
      ],
      "text/plain": [
       "<IPython.core.display.Latex object>"
      ]
     },
     "metadata": {},
     "output_type": "display_data"
    },
    {
     "data": {
      "text/latex": [
       "$$\\qquad{\\scriptsize \\left[\\begin{array}{r}1.99e+03&8.24e+02&6.60e+02&6.21e+02&6.60e+02&8.24e+02&1.99e+03\\end{array}\\right]}$$"
      ],
      "text/plain": [
       "<IPython.core.display.Math object>"
      ]
     },
     "metadata": {},
     "output_type": "display_data"
    },
    {
     "data": {
      "text/latex": [
       "For $Q=8$:"
      ],
      "text/plain": [
       "<IPython.core.display.Latex object>"
      ]
     },
     "metadata": {},
     "output_type": "display_data"
    },
    {
     "data": {
      "text/latex": [
       "$\\qquad$The derivatives at quadrature points are: "
      ],
      "text/plain": [
       "<IPython.core.display.Latex object>"
      ]
     },
     "metadata": {},
     "output_type": "display_data"
    },
    {
     "data": {
      "text/latex": [
       "$$\\qquad{\\scriptsize \\left[\\begin{array}{r}4.48e+02&1.76e+03&1.61e+04&1.33e+05&7.15e+05&2.40e+06&5.10e+06&7.00e+06\\end{array}\\right]}$$"
      ],
      "text/plain": [
       "<IPython.core.display.Math object>"
      ]
     },
     "metadata": {},
     "output_type": "display_data"
    },
    {
     "data": {
      "text/latex": [
       "$\\qquad$The exact derivatives at quadrature points are: "
      ],
      "text/plain": [
       "<IPython.core.display.Latex object>"
      ]
     },
     "metadata": {},
     "output_type": "display_data"
    },
    {
     "data": {
      "text/latex": [
       "$$\\qquad{\\scriptsize \\left[\\begin{array}{r}4.48e+02&1.76e+03&1.61e+04&1.33e+05&7.15e+05&2.40e+06&5.10e+06&7.00e+06\\end{array}\\right]}$$"
      ],
      "text/plain": [
       "<IPython.core.display.Math object>"
      ]
     },
     "metadata": {},
     "output_type": "display_data"
    },
    {
     "data": {
      "text/latex": [
       "$\\qquad$The absolute errors are: "
      ],
      "text/plain": [
       "<IPython.core.display.Latex object>"
      ]
     },
     "metadata": {},
     "output_type": "display_data"
    },
    {
     "data": {
      "text/latex": [
       "$$\\qquad{\\scriptsize \\left[\\begin{array}{r}4.94e-08&2.16e-08&2.03e-08&2.55e-08&4.26e-08&1.07e-07&2.24e-07&1.07e-06\\end{array}\\right]}$$"
      ],
      "text/plain": [
       "<IPython.core.display.Math object>"
      ]
     },
     "metadata": {},
     "output_type": "display_data"
    },
    {
     "data": {
      "text/latex": [
       "For $Q=9$:"
      ],
      "text/plain": [
       "<IPython.core.display.Latex object>"
      ]
     },
     "metadata": {},
     "output_type": "display_data"
    },
    {
     "data": {
      "text/latex": [
       "$\\qquad$The derivatives at quadrature points are: "
      ],
      "text/plain": [
       "<IPython.core.display.Latex object>"
      ]
     },
     "metadata": {},
     "output_type": "display_data"
    },
    {
     "data": {
      "text/latex": [
       "$$\\qquad{\\scriptsize \\left[\\begin{array}{r}4.48e+02&1.34e+03&8.90e+03&6.19e+04&3.27e+05&1.20e+06&3.05e+06&5.48e+06&7.00e+06\\end{array}\\right]}$$"
      ],
      "text/plain": [
       "<IPython.core.display.Math object>"
      ]
     },
     "metadata": {},
     "output_type": "display_data"
    },
    {
     "data": {
      "text/latex": [
       "$\\qquad$The exact derivatives at quadrature points are: "
      ],
      "text/plain": [
       "<IPython.core.display.Latex object>"
      ]
     },
     "metadata": {},
     "output_type": "display_data"
    },
    {
     "data": {
      "text/latex": [
       "$$\\qquad{\\scriptsize \\left[\\begin{array}{r}4.48e+02&1.34e+03&8.90e+03&6.19e+04&3.27e+05&1.20e+06&3.05e+06&5.48e+06&7.00e+06\\end{array}\\right]}$$"
      ],
      "text/plain": [
       "<IPython.core.display.Math object>"
      ]
     },
     "metadata": {},
     "output_type": "display_data"
    },
    {
     "data": {
      "text/latex": [
       "$\\qquad$The absolute errors are: "
      ],
      "text/plain": [
       "<IPython.core.display.Latex object>"
      ]
     },
     "metadata": {},
     "output_type": "display_data"
    },
    {
     "data": {
      "text/latex": [
       "$$\\qquad{\\scriptsize \\left[\\begin{array}{r}2.45e-07&1.07e-07&9.40e-08&1.05e-07&1.44e-07&2.63e-07&6.46e-07&9.74e-07&6.36e-06\\end{array}\\right]}$$"
      ],
      "text/plain": [
       "<IPython.core.display.Math object>"
      ]
     },
     "metadata": {},
     "output_type": "display_data"
    }
   ],
   "source": [
    "for Qi in [7, 8, 9]:\n",
    "    ex2b(Qi, f_ex2a, df_ex2a)"
   ]
  },
  {
   "cell_type": "markdown",
   "metadata": {},
   "source": [
    "## (c)"
   ]
  },
  {
   "cell_type": "markdown",
   "metadata": {},
   "source": [
    "Use the differentiation techniques to numerically integrate $-\\int_{0}^{\\pi/2}\\frac{d}{dx}\\cos{(x)}dx$. Plot the error with respect to number of quadrature points, $Q$. Use $2 \\le Q \\le 8$."
   ]
  },
  {
   "cell_type": "code",
   "execution_count": 9,
   "metadata": {
    "collapsed": true
   },
   "outputs": [],
   "source": [
    "def f_ex2c(x):\n",
    "    \"\"\"integrand of exercise 1c\"\"\"\n",
    "    \n",
    "    return - numpy.cos(x)"
   ]
  },
  {
   "cell_type": "code",
   "execution_count": 10,
   "metadata": {
    "collapsed": false
   },
   "outputs": [],
   "source": [
    "def ex2c(Qi, f):\n",
    "    \"\"\"a wrapper for generating solutions\"\"\"\n",
    "    \n",
    "    x = lambda xi: (xi + 1) * (numpy.pi / 2. - 0.) / 2. + 0.\n",
    "    dxi_dx = 2. / (numpy.pi / 2. - 0.)\n",
    "    dx_dxi = (numpy.pi / 2. - 0.) / 2.\n",
    "    qd = quad.GaussLobattoJacobi(Qi)\n",
    "    p = poly.LagrangeBasis(qd.nodes)\n",
    "    d = p.derivative(qd.nodes).dot(f(x(qd.nodes))) * dxi_dx\n",
    "    ans = numpy.sum(d * qd.weights * dx_dxi)\n",
    "    err = numpy.abs(ans - 1.)\n",
    "    \n",
    "    print(\"The numerical solution is: \" +\n",
    "          \"{0}; the absolute error is: {1}\".format(ans, err))\n",
    "    \n",
    "    return err"
   ]
  },
  {
   "cell_type": "code",
   "execution_count": 11,
   "metadata": {
    "collapsed": false
   },
   "outputs": [
    {
     "name": "stdout",
     "output_type": "stream",
     "text": [
      "The numerical solution is: 0.9999999999999999; the absolute error is: 1.1102230246251565e-16\n",
      "The numerical solution is: 0.9999999999999998; the absolute error is: 2.220446049250313e-16\n",
      "The numerical solution is: 0.9999999999999998; the absolute error is: 2.220446049250313e-16\n",
      "The numerical solution is: 0.999999999999999; the absolute error is: 9.992007221626409e-16\n",
      "The numerical solution is: 0.9999999999999994; the absolute error is: 5.551115123125783e-16\n",
      "The numerical solution is: 1.0000000000000018; the absolute error is: 1.7763568394002505e-15\n",
      "The numerical solution is: 1.0000000000000195; the absolute error is: 1.9539925233402755e-14\n"
     ]
    }
   ],
   "source": [
    "Q = numpy.arange(2, 9)\n",
    "err = numpy.zeros_like(Q, dtype=numpy.float64)\n",
    "for i, Qi in enumerate(range(2, 9)):\n",
    "    err[i] = ex2c(Qi, f_ex2c)"
   ]
  },
  {
   "cell_type": "code",
   "execution_count": 12,
   "metadata": {
    "collapsed": false
   },
   "outputs": [
    {
     "data": {
      "image/png": "[encoded data removed]",
      "text/plain": [
       "<matplotlib.figure.Figure at 0x7f5c58784b00>"
      ]
     },
     "metadata": {},
     "output_type": "display_data"
    }
   ],
   "source": [
    "pyplot.semilogy(Q, err, 'k.-', lw=2, markersize=15)\n",
    "pyplot.title(\"Absolute error of numerical integration of \" +\n",
    "             r\"$-\\int_{0}^{\\pi/2}\\frac{d}{dx}\\cos{(x)} dx$\" + \n",
    "             \"\\n with Gauss-Lobatto-Legendre quadrature\", y=1.08)\n",
    "pyplot.xlabel(r\"$Q$\" + \", number of quadratiure points\")\n",
    "pyplot.ylabel(\"absolute error\")\n",
    "pyplot.grid();"
   ]
  },
  {
   "cell_type": "code",
   "execution_count": 13,
   "metadata": {
    "collapsed": true
   },
   "outputs": [],
   "source": [
    "def df_ex2c(x):\n",
    "    \"\"\"derivative of f\"\"\"\n",
    "    \n",
    "    return numpy.sin(x)"
   ]
  },
  {
   "cell_type": "code",
   "execution_count": 14,
   "metadata": {
    "collapsed": true
   },
   "outputs": [],
   "source": [
    "def ex2c_mod(Qi, f, df):\n",
    "    \"\"\"a wrapper for generating solutions\"\"\"\n",
    "    \n",
    "    x = lambda xi: (xi + 1) * (numpy.pi / 2. - 0.) / 2. + 0.\n",
    "    dxi_dx = 2. / (numpy.pi / 2. - 0.)\n",
    "    dx_dxi = (numpy.pi / 2. - 0.) / 2.\n",
    "    \n",
    "    qd = quad.GaussLobattoJacobi(Qi)\n",
    "    p = poly.LagrangeBasis(qd.nodes)\n",
    "    d = p.derivative(qd.nodes).dot(f(x(qd.nodes))) * dxi_dx - df(x(qd.nodes))\n",
    "    d *= d\n",
    "    err = numpy.sqrt(numpy.sum(d * qd.weights * dx_dxi) / (numpy.pi / 2. - 0.))\n",
    "    \n",
    "    print(\"The H1-norm is: {0}: \".format(err))\n",
    "    \n",
    "    return err"
   ]
  },
  {
   "cell_type": "code",
   "execution_count": 15,
   "metadata": {
    "collapsed": false
   },
   "outputs": [
    {
     "name": "stdout",
     "output_type": "stream",
     "text": [
      "The H1-norm is: 0.5183290096085398: \n",
      "The H1-norm is: 0.09891440790463447: \n",
      "The H1-norm is: 0.012800413182384441: \n",
      "The H1-norm is: 0.001250205356252559: \n",
      "The H1-norm is: 9.79256567059248e-05: \n",
      "The H1-norm is: 6.399212463676948e-06: \n",
      "The H1-norm is: 3.586485057021394e-07: \n"
     ]
    }
   ],
   "source": [
    "for i, Qi in enumerate(range(2, 9)):\n",
    "    err[i] = ex2c_mod(Qi, f_ex2c, df_ex2c)"
   ]
  },
  {
   "cell_type": "code",
   "execution_count": 16,
   "metadata": {
    "collapsed": false
   },
   "outputs": [
    {
     "data": {
      "image/png": "[encoded data removed]",
      "text/plain": [
       "<matplotlib.figure.Figure at 0x7f5c54d1ebe0>"
      ]
     },
     "metadata": {},
     "output_type": "display_data"
    }
   ],
   "source": [
    "pyplot.semilogy(Q, err, 'k.-', lw=2, markersize=15)\n",
    "pyplot.title(\"H1-norm of numerical integration of \" +\n",
    "             r\"$-\\int_{0}^{\\pi/2}\\frac{d}{dx}\\cos{(x)} dx$\" + \n",
    "             \"\\n with Gauss-Lobatto-Legendre quadrature\", y=1.08)\n",
    "pyplot.xlabel(r\"$Q$\" + \", number of quadratiure points\")\n",
    "pyplot.ylabel(\"H1-norm\")\n",
    "pyplot.grid();"
   ]
  }
 ],
 "metadata": {
  "anaconda-cloud": {},
  "kernelspec": {
   "display_name": "Python [conda root]",
   "language": "python",
   "name": "conda-root-py"
  },
  "language_info": {
   "codemirror_mode": {
    "name": "ipython",
    "version": 3
   },
   "file_extension": ".py",
   "mimetype": "text/x-python",
   "name": "python",
   "nbconvert_exporter": "python",
   "pygments_lexer": "ipython3",
   "version": "3.5.2"
  },
  "nav_menu": {},
  "toc": {
   "navigate_menu": true,
   "number_sections": true,
   "sideBar": true,
   "threshold": 6,
   "toc_cell": false,
   "toc_section_display": "block",
   "toc_window_display": false
  }
 },
 "nbformat": 4,
 "nbformat_minor": 1
}
