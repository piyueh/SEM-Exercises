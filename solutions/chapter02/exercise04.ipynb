{
 "cells": [
  {
   "cell_type": "markdown",
   "metadata": {},
   "source": [
    "Exercise 4\n",
    "=========="
   ]
  },
  {
   "cell_type": "code",
   "execution_count": 1,
   "metadata": {
    "collapsed": true,
    "run_control": {
     "frozen": false,
     "read_only": false
    }
   },
   "outputs": [],
   "source": [
    "import numpy\n",
    "from matplotlib import pyplot\n",
    "from matplotlib import colors\n",
    "% matplotlib inline"
   ]
  },
  {
   "cell_type": "code",
   "execution_count": 2,
   "metadata": {
    "collapsed": false,
    "run_control": {
     "frozen": false,
     "read_only": false
    }
   },
   "outputs": [],
   "source": [
    "import os, sys\n",
    "sys.path.append(os.path.split(os.path.split(os.getcwd())[0])[0])"
   ]
  },
  {
   "cell_type": "code",
   "execution_count": 3,
   "metadata": {
    "collapsed": true,
    "run_control": {
     "frozen": false,
     "read_only": false
    }
   },
   "outputs": [],
   "source": [
    "import utils.quadrature as quad\n",
    "import utils.grids.one_d as assembly"
   ]
  },
  {
   "cell_type": "markdown",
   "metadata": {},
   "source": [
    "## (a)"
   ]
  },
  {
   "cell_type": "markdown",
   "metadata": {},
   "source": [
    "Solve the same projection problem as it is in exercise 3 but with $0 \\le x \\le 10$ and $N_{el}=10$ with polynomial order $P=8$ for each element."
   ]
  },
  {
   "cell_type": "code",
   "execution_count": 4,
   "metadata": {
    "collapsed": true
   },
   "outputs": [],
   "source": [
    "def ex_a(a, expansion):\n",
    "    \"\"\"A wrapper for exercise a\"\"\"\n",
    "    \n",
    "    f = lambda x: numpy.sin(x)\n",
    "    qd = quad.GaussLobattoJacobi(10)\n",
    "    \n",
    "    G = a(10, [0, 10], expansion, 8)\n",
    "    fi = numpy.zeros(G.nModes, dtype=numpy.float64)\n",
    "\n",
    "    for i, e in enumerate(G.elems):\n",
    "        for j, expn in enumerate(e.expn):\n",
    "            fi[G.l2g[i][j]] += \\\n",
    "                numpy.sum(expn(qd.nodes) * f(e.xi_to_x(qd.nodes)) * qd.weights)\n",
    "\n",
    "    G.set_coeffs(numpy.linalg.solve(G.M, fi))\n",
    "\n",
    "    x = numpy.linspace(0, 10, 200)\n",
    "    err = G(x) - f(x)\n",
    "    norm = numpy.linalg.norm(err, 2)\n",
    "\n",
    "    print(\"The l2-norm of error is: {}\".format(norm))\n",
    "    print(\"The matrix pattern is:\")\n",
    "    pyplot.matshow(numpy.where(G.M != 0, 1, 0), \n",
    "                   cmap=colors.ListedColormap(['white', 'black']));"
   ]
  },
  {
   "cell_type": "markdown",
   "metadata": {},
   "source": [
    "### Sequential ordering + Common p-type Jacobi expansion"
   ]
  },
  {
   "cell_type": "code",
   "execution_count": 5,
   "metadata": {
    "collapsed": false
   },
   "outputs": [
    {
     "name": "stdout",
     "output_type": "stream",
     "text": [
      "The l2-norm of error is: 1.7106207690798694e-10\n",
      "The matrix pattern is:\n"
     ]
    },
    {
     "data": {
      "image/png": "[encoded data removed]",
      "text/plain": [
       "<matplotlib.figure.Figure at 0x7ff90db972e8>"
      ]
     },
     "metadata": {},
     "output_type": "display_data"
    }
   ],
   "source": [
    "ex_a(assembly.SequentialAssembly, \"CommonJacobi\")"
   ]
  },
  {
   "cell_type": "markdown",
   "metadata": {},
   "source": [
    "### Sequential ordering + Gauss-Lobatto-Legendre Lagrange expansion"
   ]
  },
  {
   "cell_type": "code",
   "execution_count": 6,
   "metadata": {
    "collapsed": false,
    "run_control": {
     "frozen": false,
     "read_only": false
    }
   },
   "outputs": [
    {
     "name": "stdout",
     "output_type": "stream",
     "text": [
      "The l2-norm of error is: 2.3566063215332412e-09\n",
      "The matrix pattern is:\n"
     ]
    },
    {
     "data": {
      "image/png": "[encoded data removed]",
      "text/plain": [
       "<matplotlib.figure.Figure at 0x7ff90e18d0f0>"
      ]
     },
     "metadata": {},
     "output_type": "display_data"
    }
   ],
   "source": [
    "ex_a(assembly.SequentialAssembly, \"GaussLobattoJacobi\")"
   ]
  },
  {
   "cell_type": "markdown",
   "metadata": {},
   "source": [
    "### Decomposed ordering + Common p-type Jacobi expansion"
   ]
  },
  {
   "cell_type": "code",
   "execution_count": 7,
   "metadata": {
    "collapsed": false
   },
   "outputs": [
    {
     "name": "stdout",
     "output_type": "stream",
     "text": [
      "The l2-norm of error is: 1.7106092887248066e-10\n",
      "The matrix pattern is:\n"
     ]
    },
    {
     "data": {
      "image/png": "[encoded data removed]",
      "text/plain": [
       "<matplotlib.figure.Figure at 0x7ff90e1fe668>"
      ]
     },
     "metadata": {},
     "output_type": "display_data"
    }
   ],
   "source": [
    "ex_a(assembly.DecomposeAssembly, \"CommonJacobi\")"
   ]
  },
  {
   "cell_type": "markdown",
   "metadata": {},
   "source": [
    "### Decomposed ordering + Gauss-Lobatto-Legendre Lagrange expansion"
   ]
  },
  {
   "cell_type": "code",
   "execution_count": 8,
   "metadata": {
    "collapsed": false,
    "run_control": {
     "frozen": false,
     "read_only": false
    }
   },
   "outputs": [
    {
     "name": "stdout",
     "output_type": "stream",
     "text": [
      "The l2-norm of error is: 2.3566063215332412e-09\n",
      "The matrix pattern is:\n"
     ]
    },
    {
     "data": {
      "image/png": "[encoded data removed]",
      "text/plain": [
       "<matplotlib.figure.Figure at 0x7ff90d87c898>"
      ]
     },
     "metadata": {},
     "output_type": "display_data"
    }
   ],
   "source": [
    "ex_a(assembly.DecomposeAssembly, \"GaussLobattoJacobi\")"
   ]
  },
  {
   "cell_type": "markdown",
   "metadata": {},
   "source": [
    "## (b)"
   ]
  },
  {
   "cell_type": "markdown",
   "metadata": {},
   "source": [
    "Repeat the exercise (a) but lift Dirichlet BCs (i.e. 0th mode on 0th element and final mode on the final element)."
   ]
  },
  {
   "cell_type": "code",
   "execution_count": 9,
   "metadata": {
    "collapsed": true
   },
   "outputs": [],
   "source": [
    "def ex_b(a, expansion):\n",
    "    \"\"\"A wrapper for exercise a\"\"\"\n",
    "    \n",
    "    f = lambda x: numpy.sin(x)\n",
    "    uBC1 = f(0.); uBC2 = f(10.)\n",
    "    qd = quad.GaussLobattoJacobi(10)\n",
    "    \n",
    "    G = a(10, [0, 10], expansion, 8)\n",
    "    fi = numpy.zeros(G.nModes, dtype=numpy.float64)\n",
    "\n",
    "    for i, e in enumerate(G.elems):\n",
    "        for j, expn in enumerate(e.expn):\n",
    "            fi[G.l2g[i][j]] += \\\n",
    "                numpy.sum(expn(qd.nodes) * f(e.xi_to_x(qd.nodes)) * qd.weights)\n",
    "\n",
    "    fi -= uBC1 * G.M[:, G.l2g[0][0]].A.flatten()\n",
    "    fi -= uBC2 * G.M[:, G.l2g[-1][-1]].A.flatten()\n",
    "    fi = numpy.delete(fi, [G.l2g[0][0], G.l2g[-1][-1]])\n",
    "    \n",
    "    M = numpy.delete(G.M, [G.l2g[0][0], G.l2g[-1][-1]], 0)\n",
    "    M = numpy.delete(M, [G.l2g[0][0], G.l2g[-1][-1]], 1)\n",
    "    \n",
    "    soln = numpy.linalg.solve(M, fi)\n",
    "    soln = numpy.insert(soln, G.l2g[0][0], uBC1)\n",
    "    soln = numpy.insert(soln, G.l2g[-1][-1], uBC2)\n",
    "    G.set_coeffs(soln)\n",
    "\n",
    "    x = numpy.linspace(0, 10, 200)\n",
    "    err = G(x) - f(x)\n",
    "    norm = numpy.linalg.norm(err, 2)\n",
    "\n",
    "    print(\"The l2-norm of error is: {}\".format(norm))\n",
    "    print(\"The pattern of lifted matrix is:\")\n",
    "    pyplot.matshow(numpy.where(M != 0, 1, 0), \n",
    "                   cmap=colors.ListedColormap(['white', 'black']));"
   ]
  },
  {
   "cell_type": "markdown",
   "metadata": {},
   "source": [
    "### Sequential ordering + Common p-type Jacobi expansion"
   ]
  },
  {
   "cell_type": "code",
   "execution_count": 10,
   "metadata": {
    "collapsed": false
   },
   "outputs": [
    {
     "name": "stdout",
     "output_type": "stream",
     "text": [
      "The l2-norm of error is: 1.55922781013095e-10\n",
      "The pattern of lifted matrix is:\n"
     ]
    },
    {
     "data": {
      "image/png": "[encoded data removed]",
      "text/plain": [
       "<matplotlib.figure.Figure at 0x7ff90bc0ca90>"
      ]
     },
     "metadata": {},
     "output_type": "display_data"
    }
   ],
   "source": [
    "ex_b(assembly.SequentialAssembly, \"CommonJacobi\")"
   ]
  },
  {
   "cell_type": "markdown",
   "metadata": {},
   "source": [
    "### Sequential ordering + Gauss-Lobatto-Legendre Lagrange expansion"
   ]
  },
  {
   "cell_type": "code",
   "execution_count": 11,
   "metadata": {
    "collapsed": false,
    "run_control": {
     "frozen": false,
     "read_only": false
    }
   },
   "outputs": [
    {
     "name": "stdout",
     "output_type": "stream",
     "text": [
      "The l2-norm of error is: 2.3128837929282067e-09\n",
      "The pattern of lifted matrix is:\n"
     ]
    },
    {
     "data": {
      "image/png": "[encoded data removed]",
      "text/plain": [
       "<matplotlib.figure.Figure at 0x7ff90d898dd8>"
      ]
     },
     "metadata": {},
     "output_type": "display_data"
    }
   ],
   "source": [
    "ex_b(assembly.SequentialAssembly, \"GaussLobattoJacobi\")"
   ]
  },
  {
   "cell_type": "markdown",
   "metadata": {},
   "source": [
    "### Decomposed ordering + Common p-type Jacobi expansion"
   ]
  },
  {
   "cell_type": "code",
   "execution_count": 12,
   "metadata": {
    "collapsed": false
   },
   "outputs": [
    {
     "name": "stdout",
     "output_type": "stream",
     "text": [
      "The l2-norm of error is: 1.5592320833438038e-10\n",
      "The pattern of lifted matrix is:\n"
     ]
    },
    {
     "data": {
      "image/png": "[encoded data removed]",
      "text/plain": [
       "<matplotlib.figure.Figure at 0x7ff90bc14588>"
      ]
     },
     "metadata": {},
     "output_type": "display_data"
    }
   ],
   "source": [
    "ex_b(assembly.DecomposeAssembly, \"CommonJacobi\")"
   ]
  },
  {
   "cell_type": "markdown",
   "metadata": {},
   "source": [
    "### Decomposed ordering + Gauss-Lobatto-Legendre Lagrange expansion"
   ]
  },
  {
   "cell_type": "code",
   "execution_count": 13,
   "metadata": {
    "collapsed": false,
    "run_control": {
     "frozen": false,
     "read_only": false
    }
   },
   "outputs": [
    {
     "name": "stdout",
     "output_type": "stream",
     "text": [
      "The l2-norm of error is: 2.3128837929282067e-09\n",
      "The pattern of lifted matrix is:\n"
     ]
    },
    {
     "data": {
      "image/png": "[encoded data removed]",
      "text/plain": [
       "<matplotlib.figure.Figure at 0x7ff90e2534a8>"
      ]
     },
     "metadata": {},
     "output_type": "display_data"
    }
   ],
   "source": [
    "ex_b(assembly.DecomposeAssembly, \"GaussLobattoJacobi\")"
   ]
  }
 ],
 "metadata": {
  "anaconda-cloud": {},
  "kernelspec": {
   "display_name": "Python [conda root]",
   "language": "python",
   "name": "conda-root-py"
  },
  "language_info": {
   "codemirror_mode": {
    "name": "ipython",
    "version": 3
   },
   "file_extension": ".py",
   "mimetype": "text/x-python",
   "name": "python",
   "nbconvert_exporter": "python",
   "pygments_lexer": "ipython3",
   "version": "3.5.2"
  },
  "nav_menu": {},
  "toc": {
   "navigate_menu": true,
   "number_sections": true,
   "sideBar": true,
   "threshold": 6,
   "toc_cell": false,
   "toc_section_display": "block",
   "toc_window_display": false
  }
 },
 "nbformat": 4,
 "nbformat_minor": 1
}
